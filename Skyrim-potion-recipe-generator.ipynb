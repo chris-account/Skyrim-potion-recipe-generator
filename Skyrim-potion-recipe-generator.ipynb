{
 "cells": [
  {
   "cell_type": "markdown",
   "id": "010fb18c",
   "metadata": {},
   "source": [
    "# <div align=\"center\">Skyrim Potion Recipe Generator</div>"
   ]
  },
  {
   "cell_type": "markdown",
   "id": "de5a6ef0",
   "metadata": {},
   "source": [
    "## 1. Where?"
   ]
  },
  {
   "cell_type": "markdown",
   "id": "a47ce10e",
   "metadata": {},
   "source": [
    "#### Riverwood surroundings: Blue Mountain Flower, Red Mountain Flower, Purple Mountain Flower, Butterfly Wing, Blue Butterfly Wing, Fly Amanita, Mora Tapinella, Thistle Branch\n"
   ]
  },
  {
   "cell_type": "markdown",
   "id": "70383320",
   "metadata": {},
   "source": [
    "#### Whiterun surroundings: Blue Mountain Flower, Red Mountain Flower, Purple Mountain Flower, Butterfly Wing, Blue Butterfly Wing, Tundra Cotton, Lavender"
   ]
  },
  {
   "cell_type": "markdown",
   "id": "0aa86ad2",
   "metadata": {},
   "source": [
    "## 2. What?"
   ]
  },
  {
   "cell_type": "code",
   "execution_count": 67,
   "id": "9545cdc7",
   "metadata": {},
   "outputs": [],
   "source": [
    "def get_ingredients():\n",
    "    potion_ingredients = dict()\n",
    "    potion_ingredients['Abecean Longfin'] = ['Fortify Restoration', 'Weakness to Poison', 'Weakness to Frost']\n",
    "    potion_ingredients['Bear Claws'] = ['Restore Stamina', 'Fortify Health']\n",
    "    potion_ingredients['Bee'] = ['Ravage Stamina', 'Restore Stamina']\n",
    "    potion_ingredients['Beehive Husk'] = ['Fortify Light Armor']\n",
    "    potion_ingredients['Bleeding Crown'] = ['Weakness to Poison', 'Fortify Block', 'Weakness to Fire']\n",
    "    potion_ingredients['Blisterwort'] = ['Frenzy', 'Damage Stamina', 'Restore Health']\n",
    "    potion_ingredients['Blue Butterfly Wing'] = ['Fortify Enchanting', 'Damage Stamina', 'Fortify Conjuration', 'Damage Magicka Regen'] \n",
    "    potion_ingredients['Blue Mountain Flower'] = ['Restore Health', 'Fortify Health', 'Damage Magicka Regen', 'Fortify Conjuration']\n",
    "    potion_ingredients['Bone Meal'] = ['Damage Stamina', 'Fortify Conjuration', 'Ravage Stamina', 'Resist Fire']\n",
    "    potion_ingredients['Briar Heart'] = ['Fortify Block']\n",
    "    potion_ingredients['Butterfly Wing'] = ['Restore Health', 'Fortify Barter']\n",
    "    potion_ingredients['Canis Root'] = ['Fortify Marksman', 'Paralysis', 'Damage Stamina']\n",
    "    potion_ingredients['Charred Skeever Hide'] = ['Restore Stamina']\n",
    "    potion_ingredients['Chaurus Eggs'] = ['Weakness to Poison', 'Fortify Stamina']\n",
    "    potion_ingredients['Chicken\\'s Egg'] = ['Resist Magic', 'Damage Magicka Regen']\n",
    "    potion_ingredients['Creep Cluster'] = ['Restore Magicka']\n",
    "    potion_ingredients['Cyrodilic Spadetail'] = ['Fear', 'Damage Stamina']\n",
    "    potion_ingredients['Deathbell'] = ['Damage Health', 'Damage Stamina', 'Weakness to Poison', 'Slow']\n",
    "    potion_ingredients['Dragon\\'s Tongue'] = ['Fortify Two-handed', 'Fortify Barter', 'Resist Fire']\n",
    "    potion_ingredients['Ectoplasm'] = ['Damage Health', 'Restore Magicka']\n",
    "    potion_ingredients['Elves Ear'] = ['Restore Magicka', 'Fortify Marksman', 'Resist Fire']\n",
    "    potion_ingredients['Eye of Sabre Cat'] = ['Restore Stamina']\n",
    "    potion_ingredients['Falmer Ear'] = ['Frenzy', 'Damage Health']\n",
    "    potion_ingredients['Fire Salts'] = ['Weakness to Frost', 'Restore Magicka']\n",
    "    potion_ingredients['Fly Amanita'] = ['Fortify Two-handed', 'Frenzy', 'Resist Fire', 'Regenerate Stamina']\n",
    "    potion_ingredients['Frost Mirriam'] = ['Damage Stamina Regen', 'Resist Frost', 'Ravage Magicka']\n",
    "    potion_ingredients['Frost Salts'] = []\n",
    "    potion_ingredients['Garlic'] = ['Fortify Stamina', 'Regenerate Health', 'Resist Poison', 'Regenerate Magicka']\n",
    "    potion_ingredients['Giant Lichen'] = ['Weakness to Shock', 'Weakness to Poison']\n",
    "    potion_ingredients['Giant\\'s Toe'] = ['Fortify Health', 'Damage Stamina Regen', 'Damage Stamina']\n",
    "    potion_ingredients['Glow Dust'] = ['Damage Magicka', 'Damage Magicka Regen']\n",
    "    potion_ingredients['Glowing Mushroom'] = ['Fortify Health', 'Resist Shock']\n",
    "    potion_ingredients['Grass Pod'] = ['Resist Poison', 'Restore Magicka']\n",
    "    potion_ingredients['Hagraven Claw'] = ['Fortify Enchanting', 'Resist Magic']\n",
    "    potion_ingredients['Hagraven Feathers'] = ['Damage Magicka', 'Frenzy', 'Fortify Conjuration']\n",
    "    potion_ingredients['Hanging Moss'] = ['Damage Magicka']\n",
    "    potion_ingredients['Hawk Beak'] = ['Restore Stamina']\n",
    "    potion_ingredients['Hawk Feathers'] = []\n",
    "    potion_ingredients['Histcarp'] = ['Waterbreathing', 'Restore Stamina', 'Fortify Magicka']\n",
    "    potion_ingredients['Honeycomb'] = ['Fortify Block', 'Restore Stamina', 'Fortify Light Armor']\n",
    "    potion_ingredients['Ice Wraith Teeth'] = ['Fortify Heavy Armor', 'Weakness to Frost']\n",
    "    potion_ingredients['Imp Stool'] = ['Lingering Damage Health', 'Restore Health', 'Damage Health']\n",
    "    potion_ingredients['Jazbay Grapes'] = ['Weakness to Magic', 'Regenerate Magicka']\n",
    "    potion_ingredients['Juniper Berries'] = ['Fortify Marksman', 'Damage Stamina Regen', 'Regenerate Health']\n",
    "    potion_ingredients['Lavender'] = ['Fortify Stamina', 'Resist Magic', 'Fortify Conjuration', 'Ravage Magicka']\n",
    "    potion_ingredients['Luna Moth Wing'] = ['Invisibility', 'Regenerate Health', 'Fortify Light Armor', 'Damage Magicka']\n",
    "    potion_ingredients['Mora Tapinella'] = ['Lingering Damage Health', 'Restore Magicka', 'Regenerate Stamina']\n",
    "    potion_ingredients['Mudcrab Chitin'] = ['Cure Disease', 'Resist Poison', 'Resist Fire', 'Restore Stamina']\n",
    "    potion_ingredients['Namira\\'s Rot'] = ['Fear', 'Damage Magicka', 'Fortify Lockpicking']\n",
    "    potion_ingredients['Nightshade'] = ['Damage Health', 'Damage Magicka Regen']\n",
    "    potion_ingredients['Nirnroot'] = ['Damage Stamina', 'Invisibility', 'Resist Magic', 'Damage Health']\n",
    "    potion_ingredients['Nordic Barnacle'] = ['Waterbreathing', 'Damage Magicka']\n",
    "    potion_ingredients['Orange Dartwing'] = ['Restore Stamina']\n",
    "    potion_ingredients['Pine Thrush Egg'] = ['Resist Shock', 'Restore Stamina', 'Fortify Lockpicking']\n",
    "    potion_ingredients['Purple Mountain Flower'] = ['Fortify Sneak', 'Lingering Damage Magicka', 'Restore Stamina', 'Resist Frost']\n",
    "    potion_ingredients['Red Mountain Flower'] = ['Restore Magicka', 'Ravage Magicka', 'Damage Health', 'Fortify Magicka']\n",
    "    potion_ingredients['River Betty'] = ['Fortify Carry Weight', 'Damage Health']\n",
    "    potion_ingredients['Rock Warbler Egg'] = ['Weakness to Magic', 'Restore Health']\n",
    "    potion_ingredients['Sabre Cat Tooth'] = ['Restore Stamina', 'Weakness to Poison']\n",
    "    potion_ingredients['Salt Pile'] = ['Fortify Restoration', 'Regenerate Magicka', 'Slow', 'Weakness to Magic']\n",
    "    potion_ingredients['Scaly Pholiota'] = ['Fortify Carry Weight', 'Weakness to Magic']\n",
    "    potion_ingredients['Silverside Perch'] = ['Resist Frost', 'Restore Stamina']\n",
    "    potion_ingredients['Skeever Tail'] = ['Damage Stamina Regen', 'Damage Health']\n",
    "    potion_ingredients['Slaughterfish Egg'] = ['Lingering Damage Health', 'Resist Poison', 'Fortify Stamina']\n",
    "    potion_ingredients['Slaughterfish Scales'] = ['Resist Frost', 'Lingering Damage Health', 'Fortify Heavy Armor']\n",
    "    potion_ingredients['Small Antlers'] = ['Fortify Restoration']\n",
    "    potion_ingredients['Snowberries'] = ['Fortify Enchanting', 'Resist Frost', 'Resist Fire', 'Resist Shock']\n",
    "    potion_ingredients['Spider Egg'] = ['Damage Stamina', 'Damage Magicka Regen', 'Fortify Lockpicking']\n",
    "    potion_ingredients['Spriggan Sap'] = ['Damage Magicka Regen']\n",
    "    potion_ingredients['Swamp Fungal Pod'] = ['Paralysis', 'Resist Shock']\n",
    "    potion_ingredients['Tap Root'] = ['Regenerate Magicka', 'Weakness to Magic', 'Restore Magicka']\n",
    "    potion_ingredients['Thistle Branch'] = ['Ravage Stamina', 'Fortify Heavy Armor', 'Resist Frost', 'Resist Poison']\n",
    "    potion_ingredients['Torchbug Thorax'] = ['Restore Stamina']\n",
    "    potion_ingredients['Troll Fat'] = ['Damage Health', 'Frenzy', 'Resist Poison']\n",
    "    potion_ingredients['Tundra Cotton'] = ['Fortify Barter', 'Resist Magic', 'Fortify Magicka']\n",
    "    potion_ingredients['Vampire Dust'] = ['Regenerate Health', 'Invisibility']\n",
    "    potion_ingredients['Void Salts'] = ['Weakness to Shock']\n",
    "    potion_ingredients['Wheat'] = ['Damage Stamina Regen', 'Lingering Damage Magicka', 'Restore Health', 'Fortify Health']\n",
    "    potion_ingredients['White Cap'] = ['Fortify Heavy Armor', 'Weakness to Frost', 'Restore Magicka', 'Ravage Magicka']\n",
    "    return potion_ingredients"
   ]
  },
  {
   "cell_type": "markdown",
   "id": "4a1645d3",
   "metadata": {},
   "source": [
    "## 3. Why?"
   ]
  },
  {
   "cell_type": "code",
   "execution_count": 68,
   "id": "8e00b618",
   "metadata": {},
   "outputs": [],
   "source": [
    "def get_effects(potion_ingredients):\n",
    "    potion_effects = set()\n",
    "    [potion_effects.update(ingredient_effects) for ingredient_effects in get_ingredients().values()]\n",
    "    return sorted(potion_effects)"
   ]
  },
  {
   "cell_type": "markdown",
   "id": "80ff4fe5",
   "metadata": {},
   "source": [
    "#### The currently discovered possible potion effects include:"
   ]
  },
  {
   "cell_type": "code",
   "execution_count": 69,
   "id": "79343d3c",
   "metadata": {},
   "outputs": [
    {
     "name": "stdout",
     "output_type": "stream",
     "text": [
      "['Cure Disease', 'Damage Health', 'Damage Magicka', 'Damage Magicka Regen', 'Damage Stamina', 'Damage Stamina Regen', 'Fear', 'Fortify Barter', 'Fortify Block', 'Fortify Carry Weight', 'Fortify Conjuration', 'Fortify Enchanting', 'Fortify Health', 'Fortify Heavy Armor', 'Fortify Light Armor', 'Fortify Lockpicking', 'Fortify Magicka', 'Fortify Marksman', 'Fortify Restoration', 'Fortify Sneak', 'Fortify Stamina', 'Fortify Two-handed', 'Frenzy', 'Invisibility', 'Lingering Damage Health', 'Lingering Damage Magicka', 'Paralysis', 'Ravage Magicka', 'Ravage Stamina', 'Regenerate Health', 'Regenerate Magicka', 'Regenerate Stamina', 'Resist Fire', 'Resist Frost', 'Resist Magic', 'Resist Poison', 'Resist Shock', 'Restore Health', 'Restore Magicka', 'Restore Stamina', 'Slow', 'Waterbreathing', 'Weakness to Fire', 'Weakness to Frost', 'Weakness to Magic', 'Weakness to Poison', 'Weakness to Shock']\n"
     ]
    }
   ],
   "source": [
    "print(get_effects(get_ingredients()))"
   ]
  },
  {
   "cell_type": "markdown",
   "id": "005f6d73",
   "metadata": {},
   "source": [
    "#### Exact price of individual effects can vary significantly depending on skill, but the relative price of each potion effect can be observed quite easily and is copied below in descending order. Note that sometimes an ingredient, and not the produced potion effect, will modify the relative cost of the potion. Further exceptions may exist, but the below order holds true most of the time and serves as a general guideline on which potions create the most gold and fastest alchemy skillups."
   ]
  },
  {
   "cell_type": "code",
   "execution_count": 70,
   "id": "649841a4",
   "metadata": {},
   "outputs": [],
   "source": [
    "relative_prices = ['Invisibility', 'Paralysis', 'Damage Magicka Regen', 'Slow', 'Fortify Carry Weight', 'Regenerate Stamina', 'Regenerate Health', 'Regenerate Magicka', 'Damage Stamina Regen', 'Fear', 'Fortify Block', 'Fortify Marksman', 'Fortify Restoration', 'Resist Poison', 'Fortify Two-handed', 'Frenzy', 'Lingering Damage Health', 'Resist Frost', 'Resist Fire', 'Resist Shock', 'Fortify Health', 'Lingering Damage Magicka', 'Fortify Conjuration', 'Fortify Magicka', 'Fortify Stamina', 'Resist Magic', 'Fortify Heavy Armor', 'Damage Magicka', 'Fortify Barter', 'Weakness to Magic', 'Weakness to Poison', 'Damage Stamina', 'Weakness to Frost', 'Restore Magicka', 'Restore Stamina', 'Restore Health', 'Fortify Lockpicking', 'Ravage Stamina', 'Fortify Enchanting', 'Ravage Magicka', 'Damage Health']"
   ]
  },
  {
   "cell_type": "markdown",
   "id": "b91432f3",
   "metadata": {},
   "source": [
    "# 4. How?"
   ]
  },
  {
   "cell_type": "code",
   "execution_count": 71,
   "id": "ac790a34",
   "metadata": {},
   "outputs": [
    {
     "name": "stdout",
     "output_type": "stream",
     "text": [
      "('Damage Magicka Regen', ['Blue Butterfly Wing', 'Blue Mountain Flower', \"Chicken's Egg\", 'Glow Dust', 'Nightshade', 'Spider Egg', 'Spriggan Sap'])\n"
     ]
    }
   ],
   "source": [
    "def get_ingredients_with_effect(potion_ingredients, effect):\n",
    "    ingredients_with_effect = []\n",
    "    for ingredient in potion_ingredients:\n",
    "        if effect in potion_ingredients[ingredient]:\n",
    "            ingredients_with_effect.append(ingredient)\n",
    "    return effect, ingredients_with_effect\n",
    "    \n",
    "#test get_ingredients_with_effect\n",
    "print(get_ingredients_with_effect(get_ingredients(), 'Damage Magicka Regen'))\n",
    "#should return ('Damage Magicka Regen', ['Blue Butterfly Wing', 'Blue Mountain Flower', \"Chicken's Egg\", 'Glow Dust', 'Nightshade', 'Spider Egg', 'Spriggan Sap'])"
   ]
  },
  {
   "cell_type": "code",
   "execution_count": 76,
   "id": "7c70f140",
   "metadata": {},
   "outputs": [
    {
     "name": "stdout",
     "output_type": "stream",
     "text": [
      "Potions sorted by price: \n",
      "('Invisibility', ['Luna Moth Wing', 'Nirnroot', 'Vampire Dust'])\n",
      "('Paralysis', ['Canis Root', 'Swamp Fungal Pod'])\n",
      "('Damage Magicka Regen', ['Blue Butterfly Wing', 'Blue Mountain Flower', \"Chicken's Egg\", 'Glow Dust', 'Nightshade', 'Spider Egg', 'Spriggan Sap'])\n",
      "('Slow', ['Deathbell', 'Salt Pile'])\n",
      "('Fortify Carry Weight', ['River Betty', 'Scaly Pholiota'])\n",
      "('Regenerate Stamina', ['Fly Amanita', 'Mora Tapinella'])\n",
      "('Regenerate Health', ['Garlic', 'Juniper Berries', 'Luna Moth Wing', 'Vampire Dust'])\n",
      "('Regenerate Magicka', ['Garlic', 'Jazbay Grapes', 'Salt Pile', 'Tap Root'])\n",
      "('Damage Stamina Regen', ['Frost Mirriam', \"Giant's Toe\", 'Juniper Berries', 'Skeever Tail', 'Wheat'])\n",
      "('Fear', ['Cyrodilic Spadetail', \"Namira's Rot\"])\n",
      "('Fortify Block', ['Bleeding Crown', 'Briar Heart', 'Honeycomb'])\n",
      "('Fortify Marksman', ['Canis Root', 'Elves Ear', 'Juniper Berries'])\n",
      "('Fortify Restoration', ['Abecean Longfin', 'Salt Pile', 'Small Antlers'])\n",
      "('Resist Poison', ['Garlic', 'Grass Pod', 'Mudcrab Chitin', 'Slaughterfish Egg', 'Thistle Branch', 'Troll Fat'])\n",
      "('Fortify Two-handed', [\"Dragon's Tongue\", 'Fly Amanita'])\n",
      "('Frenzy', ['Blisterwort', 'Falmer Ear', 'Fly Amanita', 'Hagraven Feathers', 'Troll Fat'])\n",
      "('Lingering Damage Health', ['Imp Stool', 'Mora Tapinella', 'Slaughterfish Egg', 'Slaughterfish Scales'])\n",
      "('Resist Frost', ['Frost Mirriam', 'Purple Mountain Flower', 'Silverside Perch', 'Slaughterfish Scales', 'Snowberries', 'Thistle Branch'])\n",
      "('Resist Fire', ['Bone Meal', \"Dragon's Tongue\", 'Elves Ear', 'Fly Amanita', 'Mudcrab Chitin', 'Snowberries'])\n",
      "('Resist Shock', ['Glowing Mushroom', 'Pine Thrush Egg', 'Snowberries', 'Swamp Fungal Pod'])\n",
      "('Fortify Health', ['Bear Claws', 'Blue Mountain Flower', \"Giant's Toe\", 'Glowing Mushroom', 'Wheat'])\n",
      "('Lingering Damage Magicka', ['Purple Mountain Flower', 'Wheat'])\n",
      "('Fortify Conjuration', ['Blue Butterfly Wing', 'Blue Mountain Flower', 'Bone Meal', 'Hagraven Feathers', 'Lavender'])\n",
      "('Fortify Magicka', ['Histcarp', 'Red Mountain Flower', 'Tundra Cotton'])\n",
      "('Fortify Stamina', ['Chaurus Eggs', 'Garlic', 'Lavender', 'Slaughterfish Egg'])\n",
      "('Resist Magic', [\"Chicken's Egg\", 'Hagraven Claw', 'Lavender', 'Nirnroot', 'Tundra Cotton'])\n",
      "('Fortify Heavy Armor', ['Ice Wraith Teeth', 'Slaughterfish Scales', 'Thistle Branch', 'White Cap'])\n",
      "('Damage Magicka', ['Glow Dust', 'Hagraven Feathers', 'Hanging Moss', 'Luna Moth Wing', \"Namira's Rot\", 'Nordic Barnacle'])\n",
      "('Fortify Barter', ['Butterfly Wing', \"Dragon's Tongue\", 'Tundra Cotton'])\n",
      "('Weakness to Magic', ['Jazbay Grapes', 'Rock Warbler Egg', 'Salt Pile', 'Scaly Pholiota', 'Tap Root'])\n",
      "('Weakness to Poison', ['Abecean Longfin', 'Bleeding Crown', 'Chaurus Eggs', 'Deathbell', 'Giant Lichen', 'Sabre Cat Tooth'])\n",
      "('Damage Stamina', ['Blisterwort', 'Blue Butterfly Wing', 'Bone Meal', 'Canis Root', 'Cyrodilic Spadetail', 'Deathbell', \"Giant's Toe\", 'Nirnroot', 'Spider Egg'])\n",
      "('Weakness to Frost', ['Abecean Longfin', 'Fire Salts', 'Ice Wraith Teeth', 'White Cap'])\n",
      "('Restore Magicka', ['Creep Cluster', 'Ectoplasm', 'Elves Ear', 'Fire Salts', 'Grass Pod', 'Mora Tapinella', 'Red Mountain Flower', 'Tap Root', 'White Cap'])\n",
      "('Restore Stamina', ['Bear Claws', 'Bee', 'Charred Skeever Hide', 'Eye of Sabre Cat', 'Hawk Beak', 'Histcarp', 'Honeycomb', 'Mudcrab Chitin', 'Orange Dartwing', 'Pine Thrush Egg', 'Purple Mountain Flower', 'Sabre Cat Tooth', 'Silverside Perch', 'Torchbug Thorax'])\n",
      "('Restore Health', ['Blisterwort', 'Blue Mountain Flower', 'Butterfly Wing', 'Imp Stool', 'Rock Warbler Egg', 'Wheat'])\n",
      "('Fortify Lockpicking', [\"Namira's Rot\", 'Pine Thrush Egg', 'Spider Egg'])\n",
      "('Ravage Stamina', ['Bee', 'Bone Meal', 'Thistle Branch'])\n",
      "('Fortify Enchanting', ['Blue Butterfly Wing', 'Hagraven Claw', 'Snowberries'])\n",
      "('Ravage Magicka', ['Frost Mirriam', 'Lavender', 'Red Mountain Flower', 'White Cap'])\n",
      "('Damage Health', ['Deathbell', 'Ectoplasm', 'Falmer Ear', 'Imp Stool', 'Nightshade', 'Nirnroot', 'Red Mountain Flower', 'River Betty', 'Skeever Tail', 'Troll Fat'])\n",
      "\n",
      "Potions not yet sorted: \n",
      "('Cure Disease', ['Mudcrab Chitin'])\n",
      "('Fortify Light Armor', ['Beehive Husk', 'Honeycomb', 'Luna Moth Wing'])\n",
      "('Fortify Sneak', ['Purple Mountain Flower'])\n",
      "('Waterbreathing', ['Histcarp', 'Nordic Barnacle'])\n",
      "('Weakness to Fire', ['Bleeding Crown'])\n",
      "('Weakness to Shock', ['Giant Lichen', 'Void Salts'])\n"
     ]
    }
   ],
   "source": [
    "def get_all_possible_potions_sorted_by_price(potion_ingredients):\n",
    "    potion_effects = get_effects(potion_ingredients)\n",
    "    print('Potions sorted by price: ')\n",
    "    for effect in relative_prices:\n",
    "        print(get_ingredients_with_effect(potion_ingredients, effect))\n",
    "        potion_effects.remove(effect)\n",
    "    print('\\nPotions not yet sorted: ')\n",
    "    for effect in potion_effects:\n",
    "        print(get_ingredients_with_effect(potion_ingredients, effect))\n",
    "\n",
    "get_all_possible_potions_sorted_by_price(get_ingredients())"
   ]
  },
  {
   "cell_type": "markdown",
   "id": "8683ee4d",
   "metadata": {},
   "source": [
    "#### Replace \"pass\" with the name of the desired potion effect."
   ]
  },
  {
   "cell_type": "code",
   "execution_count": 17,
   "id": "8ad77f82",
   "metadata": {},
   "outputs": [
    {
     "ename": "SyntaxError",
     "evalue": "invalid syntax (Temp/ipykernel_12756/1466563607.py, line 1)",
     "output_type": "error",
     "traceback": [
      "\u001b[1;36m  File \u001b[1;32m\"C:\\Users\\chrim\\AppData\\Local\\Temp/ipykernel_12756/1466563607.py\"\u001b[1;36m, line \u001b[1;32m1\u001b[0m\n\u001b[1;33m    desired_effect = pass\u001b[0m\n\u001b[1;37m                     ^\u001b[0m\n\u001b[1;31mSyntaxError\u001b[0m\u001b[1;31m:\u001b[0m invalid syntax\n"
     ]
    }
   ],
   "source": [
    "desired_effect = pass\n",
    "\n",
    "#implement"
   ]
  }
 ],
 "metadata": {
  "kernelspec": {
   "display_name": "Python 3 (ipykernel)",
   "language": "python",
   "name": "python3"
  },
  "language_info": {
   "codemirror_mode": {
    "name": "ipython",
    "version": 3
   },
   "file_extension": ".py",
   "mimetype": "text/x-python",
   "name": "python",
   "nbconvert_exporter": "python",
   "pygments_lexer": "ipython3",
   "version": "3.9.5"
  }
 },
 "nbformat": 4,
 "nbformat_minor": 5
}
