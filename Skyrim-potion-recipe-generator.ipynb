{
 "cells": [
  {
   "cell_type": "markdown",
   "id": "010fb18c",
   "metadata": {},
   "source": [
    "# <div align=\"center\">Skyrim Potion Recipe Generator</div>"
   ]
  },
  {
   "cell_type": "markdown",
   "id": "de5a6ef0",
   "metadata": {},
   "source": [
    "## 1. Where?"
   ]
  },
  {
   "cell_type": "markdown",
   "id": "a47ce10e",
   "metadata": {},
   "source": [
    "#### Riverwood surroundings: Blue Mountain Flower, Red Mountain Flower, Purple Mountain Flower, Butterfly Wing, Blue Butterfly Wing, Fly Amanita, Mora Tapinella, Thistle Branch\n"
   ]
  },
  {
   "cell_type": "markdown",
   "id": "70383320",
   "metadata": {},
   "source": [
    "#### Whiterun surroundings: Blue Mountain Flower, Red Mountain Flower, Purple Mountain Flower, Butterfly Wing, Blue Butterfly Wing, Tundra Cotton, Lavender"
   ]
  },
  {
   "cell_type": "markdown",
   "id": "0aa86ad2",
   "metadata": {},
   "source": [
    "## 2. What?"
   ]
  },
  {
   "cell_type": "code",
   "execution_count": 9,
   "id": "9545cdc7",
   "metadata": {},
   "outputs": [],
   "source": [
    "potion_ingredients = []\n",
    "blue_butterfly_wing = ['Damage Stamina', 'Fortify Conjuration', 'Damage Magicka Regen', 'Not Yet Discovered']; potion_ingredients.append(blue_butterfly_wing)\n",
    "blue_mountain_flower = ['Restore Health', 'Fortify Health', 'Damage Magicka Regen', 'Fortify Conjuration']; potion_ingredients.append(blue_mountain_flower)\n",
    "bone_meal = ['Damage Stamina', 'Fortify Conjuration', 'Not Yet Discovered']; potion_ingredients.append(bone_meal)\n",
    "butterfly_wing = ['Not Yet Discovered']; potion_ingredients.append(butterfly_wing)\n",
    "dragons_tongue = ['Resist Fire', 'Not Yet Discovered']; potion_ingredients.append(dragons_tongue)\n",
    "fly_amanita = ['Resist Fire', 'Regenerate Stamina', 'Not Yet Discovered']; potion_ingredients.append(fly_amanita)\n",
    "glowing_mushroom = ['Fortify Health', 'Resist Shock', 'Not Yet Discovered']\n",
    "lavender = ['Resist Magic', 'Fortify Conjuration', 'Ravage Magicka', 'Not Yet Discovered']; potion_ingredients.append(lavender)\n",
    "mora_tapinella = ['Restore Magicka', 'Regenerate Stamina', 'Not Yet Discovered']; potion_ingredients.append(mora_tapinella)\n",
    "mudcrab_chitin = ['Restore Stamina', 'Not Yet Discovered']; potion_ingredients.append(mudcrab_chitin)\n",
    "nightshade = ['Damage Health', 'Damage Magicka Regen', 'Not Yet Discovered']; potion_ingredients.append(nightshade)\n",
    "nirnroot = ['Damage Health', 'Not Yet Discovered']; potion_ingredients.append(nirnroot)\n",
    "purple_mountain_flower = ['Restore Stamina', 'Resist Frost', 'Not Yet Discovered']; potion_ingredients.append(purple_mountain_flower)\n",
    "red_mountain_flower = ['Restore Magicka', 'Ravage Magicka', 'Damage Health', 'Fortify Magicka']; potion_ingredients.append(red_mountain_flower)\n",
    "salt_pile = ['Weakness to Magic', 'Not Yet Discovered']; potion_ingredients.append(salt_pile)\n",
    "skeever_tail = ['Damage Health', 'Not Yet Discovered']; potion_ingredients.append(skeever_tail)\n",
    "snowberries = ['Resist Shock', 'Not Yet Discovered']; potion_ingredients.append(snowberries)\n",
    "spider_egg = ['Damage Magicka Regen', 'Not Yet Discovered']; potion_ingredients.append(spider_egg)\n",
    "thistle_branch = ['Resist Frost', 'Resist Poison', 'Not Yet Discovered']; potion_ingredients.append(thistle_branch)\n",
    "tundra_cotton = ['Resist Magic', 'Fortify Magicka', 'Not Yet Discovered']; potion_ingredients.append(tundra_cotton)"
   ]
  },
  {
   "cell_type": "markdown",
   "id": "4a1645d3",
   "metadata": {},
   "source": [
    "## 3. Why?"
   ]
  },
  {
   "cell_type": "code",
   "execution_count": 10,
   "id": "8e00b618",
   "metadata": {},
   "outputs": [],
   "source": [
    "potion_effects = set()\n",
    "[potion_effects.update(ingredient) for ingredient in potion_ingredients]\n",
    "potion_effects.discard(\"Not Yet Discovered\")"
   ]
  },
  {
   "cell_type": "markdown",
   "id": "80ff4fe5",
   "metadata": {},
   "source": [
    "#### The currently discovered possible potion effects include:"
   ]
  },
  {
   "cell_type": "code",
   "execution_count": 11,
   "id": "79343d3c",
   "metadata": {},
   "outputs": [
    {
     "name": "stdout",
     "output_type": "stream",
     "text": [
      "{'Damage Stamina', 'Regenerate Stamina', 'Fortify Conjuration', 'Ravage Magicka', 'Fortify Magicka', 'Resist Shock', 'Restore Stamina', 'Restore Magicka', 'Resist Poison', 'Damage Magicka Regen', 'Weakness to Magic', 'Resist Frost', 'Resist Magic', 'Resist Fire', 'Fortify Health', 'Restore Health', 'Damage Health'}\n"
     ]
    }
   ],
   "source": [
    "print(potion_effects)"
   ]
  },
  {
   "cell_type": "markdown",
   "id": "005f6d73",
   "metadata": {},
   "source": [
    "#### Exact price of individual effects can vary significantly depending on skill, but the relative price of each potion effect can be observed quite easily and is copied below in descending order. Note that sometimes an ingredient, and not the produced potion effect, will modify the relative cost of the potion. Further exceptions may exist, but the below order holds true most of the time and serves as a general guideline on which potions create the most gold and fastest alchemy skillups."
   ]
  },
  {
   "cell_type": "markdown",
   "id": "9fcb5e6e",
   "metadata": {},
   "source": [
    "'Damage Magicka Regen', 'Resist Frost', 'Fortify Health', 'Fortify Conjuration', 'Fortify Magicka', 'Resist Magic', 'Restore Magicka', 'Ravage Magicka', 'Damage Health'"
   ]
  },
  {
   "cell_type": "markdown",
   "id": "b91432f3",
   "metadata": {},
   "source": [
    "# 4. How?"
   ]
  },
  {
   "cell_type": "markdown",
   "id": "8683ee4d",
   "metadata": {},
   "source": [
    "#### Replace \"pass\" with the name of the desired potion effect."
   ]
  },
  {
   "cell_type": "code",
   "execution_count": 17,
   "id": "8ad77f82",
   "metadata": {},
   "outputs": [
    {
     "ename": "SyntaxError",
     "evalue": "invalid syntax (Temp/ipykernel_12756/1466563607.py, line 1)",
     "output_type": "error",
     "traceback": [
      "\u001b[1;36m  File \u001b[1;32m\"C:\\Users\\chrim\\AppData\\Local\\Temp/ipykernel_12756/1466563607.py\"\u001b[1;36m, line \u001b[1;32m1\u001b[0m\n\u001b[1;33m    desired_effect = pass\u001b[0m\n\u001b[1;37m                     ^\u001b[0m\n\u001b[1;31mSyntaxError\u001b[0m\u001b[1;31m:\u001b[0m invalid syntax\n"
     ]
    }
   ],
   "source": [
    "desired_effect = pass\n",
    "\n",
    "#implement"
   ]
  }
 ],
 "metadata": {
  "kernelspec": {
   "display_name": "Python 3 (ipykernel)",
   "language": "python",
   "name": "python3"
  },
  "language_info": {
   "codemirror_mode": {
    "name": "ipython",
    "version": 3
   },
   "file_extension": ".py",
   "mimetype": "text/x-python",
   "name": "python",
   "nbconvert_exporter": "python",
   "pygments_lexer": "ipython3",
   "version": "3.9.5"
  }
 },
 "nbformat": 4,
 "nbformat_minor": 5
}
