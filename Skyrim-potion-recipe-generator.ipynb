{
 "cells": [
  {
   "cell_type": "markdown",
   "id": "010fb18c",
   "metadata": {},
   "source": [
    "# <div align=\"center\">Skyrim Potion Recipe Generator</div>"
   ]
  },
  {
   "cell_type": "markdown",
   "id": "de5a6ef0",
   "metadata": {},
   "source": [
    "## 1. Where?"
   ]
  },
  {
   "cell_type": "markdown",
   "id": "a47ce10e",
   "metadata": {},
   "source": [
    "#### Riverwood surroundings: Blue Mountain Flower, Red Mountain Flower, Purple Mountain Flower, Butterfly Wing, Blue Butterfly Wing, Fly Amanita, Mora Tapinella, Thistle Branch\n"
   ]
  },
  {
   "cell_type": "markdown",
   "id": "70383320",
   "metadata": {},
   "source": [
    "#### Whiterun surroundings: Blue Mountain Flower, Red Mountain Flower, Purple Mountain Flower, Butterfly Wing, Blue Butterfly Wing, Tundra Cotton, Lavender"
   ]
  },
  {
   "cell_type": "markdown",
   "id": "0aa86ad2",
   "metadata": {},
   "source": [
    "## 2. What?"
   ]
  },
  {
   "cell_type": "code",
   "execution_count": 1,
   "id": "7998e0b5",
   "metadata": {},
   "outputs": [],
   "source": [
    "def get_ingredients():\n",
    "    potion_ingredients = dict()\n",
    "    potion_ingredients['Abecean Longfin'] = ['Fortify Sneak', 'Fortify Restoration', 'Weakness to Poison', 'Weakness to Frost']\n",
    "    potion_ingredients['Bear Claws'] = ['Restore Stamina', 'Fortify Health', 'Fortify One-handed', 'Damage Magicka Regen']\n",
    "    potion_ingredients['Bee'] = ['Restore Stamina', 'Ravage Stamina', 'Regenerate Stamina', 'Weakness to Shock']\n",
    "    potion_ingredients['Beehive Husk'] = ['Resist Poison', 'Fortify Light Armor', 'Fortify Sneak', 'Fortify Destruction']\n",
    "    potion_ingredients['Bittergreen Petals'] = ['Lingering Damage Stamina', 'Invisibility']\n",
    "    potion_ingredients['Bleeding Crown'] = ['Weakness to Poison', 'Fortify Block', 'Weakness to Fire', 'Resist Magic']\n",
    "    potion_ingredients['Blister Pod Cap'] = []\n",
    "    potion_ingredients['Blisterwort'] = ['Fortify Smithing', 'Frenzy', 'Damage Stamina', 'Restore Health']\n",
    "    potion_ingredients['Blue Butterfly Wing'] = ['Fortify Enchanting', 'Damage Stamina', 'Fortify Conjuration', 'Damage Magicka Regen'] \n",
    "    potion_ingredients['Blue Dartwing'] = ['Resist Shock', 'Fortify Pickpocket', 'Restore Health', 'Fear']\n",
    "    potion_ingredients['Blue Mountain Flower'] = ['Restore Health', 'Fortify Health', 'Damage Magicka Regen', 'Fortify Conjuration']\n",
    "    potion_ingredients['Bone Meal'] = ['Damage Stamina', 'Fortify Conjuration', 'Ravage Stamina', 'Resist Fire']\n",
    "    potion_ingredients['Briar Heart'] = ['Restore Magicka', 'Fortify Block', 'Paralysis', 'Fortify Magicka']\n",
    "    potion_ingredients['Bungler\\'s Bane'] = ['Slow', 'Ravage Stamina']\n",
    "    potion_ingredients['Butterfly Wing'] = ['Restore Health', 'Fortify Barter', 'Lingering Damage Stamina', 'Damage Magicka']\n",
    "    potion_ingredients['Canis Root'] = ['Fortify One-handed', 'Fortify Marksman', 'Paralysis', 'Damage Stamina']\n",
    "    potion_ingredients['Charred Skeever Hide'] = ['Restore Stamina', 'Cure Disease', 'Resist Poison', 'Restore Health']\n",
    "    potion_ingredients['Chaurus Eggs'] = ['Weakness to Poison', 'Fortify Stamina', 'Damage Magicka', 'Invisibility']\n",
    "    potion_ingredients['Chicken\\'s Egg'] = ['Lingering Damage Stamina', 'Resist Magic', 'Damage Magicka Regen', 'Waterbreathing']\n",
    "    potion_ingredients['Coda Flower'] = ['Damage Health', 'Lingering Damage Stamina', 'Ravage Magicka', 'Fortify Carry Weight']\n",
    "    potion_ingredients['Comberry'] = ['Damage Stamina', 'Spell Absorption']\n",
    "    potion_ingredients['Congealed Putrescence'] = ['Ravage Health', 'Restore Magicka', 'Weakness to Fire', 'Fortify Conjuration']\n",
    "    potion_ingredients['Corkbulb Root'] = ['Resist Shock', 'Fortify Marksman', 'Paralysis', 'Restore Health']\n",
    "    potion_ingredients['Creep Cluster'] = ['Restore Magicka', 'Damage Stamina Regen']\n",
    "    potion_ingredients['Cyrodilic Spadetail'] = ['Fear', 'Damage Stamina', 'Fortify Restoration', 'Ravage Health']\n",
    "    potion_ingredients['Daedra Heart'] = ['Restore Health', 'Damage Stamina Regen', 'Damage Magicka', 'Fear']\n",
    "    potion_ingredients['Deathbell'] = ['Damage Health', 'Ravage Stamina', 'Weakness to Poison', 'Slow']\n",
    "    potion_ingredients['Dragon\\'s Tongue'] = ['Fortify Two-handed', 'Fortify Barter', 'Resist Fire', 'Fortify Illusion']\n",
    "    potion_ingredients['Dreugh Wax'] = ['Fortify Smithing', 'Weakness to Magic', 'Frenzy']\n",
    "    potion_ingredients['Dwarven Oil'] = ['Weakness to Magic', 'Fortify Illusion', 'Restore Magicka']\n",
    "    potion_ingredients['Ectoplasm'] = ['Damage Health', 'Fortify Destruction', 'Restore Magicka', 'Fortify Magicka']\n",
    "    potion_ingredients['Elves Ear'] = ['Weakness to Frost', 'Restore Magicka', 'Fortify Marksman', 'Resist Fire']\n",
    "    potion_ingredients['Eye of Sabre Cat'] = ['Restore Stamina', 'Ravage Health', 'Damage Magicka', 'Restore Health']\n",
    "    potion_ingredients['Falmer Ear'] = ['Frenzy', 'Damage Health', 'Resist Poison', 'Fortify Lockpicking']\n",
    "    potion_ingredients['Fire Salts'] = ['Weakness to Frost', 'Resist Fire', 'Restore Magicka', 'Regenerate Magicka']\n",
    "    potion_ingredients['Fly Amanita'] = ['Fortify Two-handed', 'Frenzy', 'Resist Fire', 'Regenerate Stamina']\n",
    "    potion_ingredients['Frost Mirriam'] = ['Damage Stamina Regen', 'Fortify Sneak', 'Resist Frost', 'Ravage Magicka']\n",
    "    potion_ingredients['Frost Salts'] = ['Weakness to Fire', 'Resist Frost', 'Restore Magicka', 'Fortify Conjuration']\n",
    "    potion_ingredients['Garlic'] = ['Fortify Stamina', 'Regenerate Health', 'Resist Poison', 'Regenerate Magicka']\n",
    "    potion_ingredients['Giant Lichen'] = ['Weakness to Shock', 'Ravage Health', 'Weakness to Poison', 'Restore Magicka']\n",
    "    potion_ingredients['Giant\\'s Toe'] = ['Fortify Health', 'Damage Stamina Regen', 'Fortify Carry Weight', 'Damage Stamina']\n",
    "    potion_ingredients['Glow Dust'] = ['Damage Magicka', 'Damage Magicka Regen', 'Fortify Destruction', 'Resist Shock']\n",
    "    potion_ingredients['Glowing Mushroom'] = ['Fortify Health', 'Resist Shock']\n",
    "    potion_ingredients['Grass Pod'] = ['Resist Poison', 'Ravage Magicka', 'Fortify Alteration', 'Restore Magicka']\n",
    "    potion_ingredients['Hagraven Claw'] = ['Fortify Enchanting', 'Resist Magic', 'Fortify Barter', 'Lingering Damage Magicka']\n",
    "    potion_ingredients['Hagraven Feathers'] = ['Damage Magicka', 'Fortify Conjuration', 'Frenzy', 'Weakness to Shock']\n",
    "    potion_ingredients['Hanging Moss'] = ['Damage Magicka', 'Fortify Health', 'Damage Magicka Regen', 'Fortify One-handed']\n",
    "    potion_ingredients['Hawk Beak'] = ['Restore Stamina', 'Resist Frost', 'Fortify Carry Weight', 'Resist Shock']\n",
    "    potion_ingredients['Hawk Feathers'] = ['Cure Disease', 'Fortify Light Armor']\n",
    "    potion_ingredients['Histcarp'] = ['Waterbreathing', 'Restore Stamina', 'Fortify Magicka', 'Damage Stamina Regen']\n",
    "    potion_ingredients['Honeycomb'] = ['Fortify Block', 'Restore Stamina', 'Fortify Light Armor', 'Ravage Stamina']\n",
    "    potion_ingredients['Hypha Facia'] = ['Weakness to Poison', 'Frenzy']\n",
    "    potion_ingredients['Ice Wraith Teeth'] = ['Fortify Heavy Armor', 'Weakness to Frost', 'Invisibility', 'Weakness to Fire']\n",
    "    potion_ingredients['Imp Stool'] = ['Lingering Damage Health', 'Restore Health', 'Paralysis', 'Damage Health']\n",
    "    potion_ingredients['Jazbay Grapes'] = ['Fortify Magicka', 'Weakness to Magic', 'Regenerate Magicka', 'Ravage Health']\n",
    "    potion_ingredients['Juniper Berries'] = ['Weakness to Fire', 'Fortify Marksman', 'Damage Stamina Regen', 'Regenerate Health']\n",
    "    potion_ingredients['Lavender'] = ['Fortify Stamina', 'Resist Magic', 'Fortify Conjuration', 'Ravage Magicka']\n",
    "    potion_ingredients['Luna Moth Wing'] = ['Invisibility', 'Regenerate Health', 'Fortify Light Armor', 'Damage Magicka']\n",
    "    potion_ingredients['Moon Sugar'] = ['Weakness to Fire', 'Resist Frost', 'Regenerate Magicka', 'Restore Magicka']\n",
    "    potion_ingredients['Mora Tapinella'] = ['Lingering Damage Health', 'Restore Magicka', 'Regenerate Stamina']\n",
    "    potion_ingredients['Mudcrab Chitin'] = ['Cure Disease', 'Resist Poison', 'Resist Fire', 'Restore Stamina']\n",
    "    potion_ingredients['Namira\\'s Rot'] = ['Fear', 'Damage Magicka', 'Fortify Lockpicking', 'Regenerate Health']\n",
    "    potion_ingredients['Nightshade'] = ['Lingering Damage Stamina', 'Fortify Destruction', 'Damage Health', 'Damage Magicka Regen']\n",
    "    potion_ingredients['Nirnroot'] = ['Damage Stamina', 'Invisibility', 'Resist Magic', 'Damage Health']\n",
    "    potion_ingredients['Nordic Barnacle'] = ['Damage Magicka', 'Waterbreathing', 'Regenerate Health', 'Fortify Pickpocket']\n",
    "    potion_ingredients['Orange Dartwing'] = ['Restore Stamina', 'Ravage Magicka', 'Fortify Pickpocket', 'Lingering Damage Health']\n",
    "    potion_ingredients['Pearl'] = ['Restore Stamina', 'Fortify Block', 'Restore Magicka', 'Resist Shock']\n",
    "    potion_ingredients['Pine Thrush Egg'] = ['Resist Shock', 'Restore Stamina', 'Fortify Lockpicking', 'Weakness to Poison']\n",
    "    potion_ingredients['Purple Mountain Flower'] = ['Fortify Sneak', 'Lingering Damage Magicka', 'Restore Stamina', 'Resist Frost']\n",
    "    potion_ingredients['Red Mountain Flower'] = ['Restore Magicka', 'Ravage Magicka', 'Damage Health', 'Fortify Magicka']\n",
    "    potion_ingredients['River Betty'] = ['Slow', 'Fortify Carry Weight', 'Fortify Alteration', 'Damage Health']\n",
    "    potion_ingredients['Rock Warbler Egg'] = ['Restore Health', 'Fortify One-handed', 'Damage Stamina', 'Weakness to Magic']\n",
    "    potion_ingredients['Sabre Cat Tooth'] = ['Restore Stamina', 'Fortify Heavy Armor', 'Fortify Smithing', 'Weakness to Poison']\n",
    "    potion_ingredients['Salt Pile'] = ['Fortify Restoration', 'Regenerate Magicka', 'Slow', 'Weakness to Magic']\n",
    "    potion_ingredients['Scaly Pholiota'] = ['Weakness to Magic', 'Fortify Illusion', 'Regenerate Stamina', 'Fortify Carry Weight']\n",
    "    potion_ingredients['Silverside Perch'] = ['Restore Stamina', 'Damage Stamina Regen', 'Ravage Health', 'Resist Frost']\n",
    "    potion_ingredients['Skeever Tail'] = ['Damage Stamina Regen', 'Ravage Health', 'Damage Health', 'Fortify Light Armor']\n",
    "    potion_ingredients['Slaughterfish Egg'] = ['Resist Poison', 'Fortify Pickpocket', 'Lingering Damage Health', 'Fortify Stamina']\n",
    "    potion_ingredients['Slaughterfish Scales'] = ['Resist Frost', 'Lingering Damage Health', 'Fortify Heavy Armor', 'Fortify Block']\n",
    "    potion_ingredients['Small Antlers'] = ['Weakness to Poison', 'Fortify Restoration', 'Lingering Damage Stamina', 'Damage Health']\n",
    "    potion_ingredients['Small Pearl'] = ['Restore Stamina', 'Fortify One-handed', 'Fortify Restoration', 'Resist Frost']\n",
    "    potion_ingredients['Snowberries'] = ['Fortify Enchanting', 'Resist Frost', 'Resist Fire', 'Resist Shock']\n",
    "    potion_ingredients['Spider Egg'] = ['Damage Stamina', 'Damage Magicka Regen', 'Fortify Lockpicking', 'Fortify Marksman']\n",
    "    potion_ingredients['Spriggan Sap'] = ['Damage Magicka Regen', 'Fortify Enchanting', 'Fortify Smithing', 'Fortify Alteration']\n",
    "    potion_ingredients['Steel-Blue Entoloma'] = ['Restore Magicka', 'Fortify Destruction', 'Resist Frost', 'Fortify Carry Weight']\n",
    "    potion_ingredients['Swamp Fungal Pod'] = ['Resist Shock', 'Lingering Damage Magicka', 'Paralysis', 'Restore Health']\n",
    "    potion_ingredients['Tap Root'] = ['Regenerate Magicka', 'Weakness to Magic', 'Restore Magicka']\n",
    "    potion_ingredients['Thistle Branch'] = ['Ravage Stamina', 'Fortify Heavy Armor', 'Resist Frost', 'Resist Poison']\n",
    "    potion_ingredients['Torchbug Thorax'] = ['Restore Stamina', 'Lingering Damage Magicka', 'Weakness to Magic', 'Fortify Stamina']\n",
    "    potion_ingredients['Troll Fat'] = ['Damage Health', 'Frenzy', 'Resist Poison', 'Fortify Two-handed']\n",
    "    potion_ingredients['Tundra Cotton'] = ['Fortify Barter', 'Resist Magic', 'Fortify Magicka', 'Fortify Block']\n",
    "    potion_ingredients['Vampire Dust'] = ['Regenerate Health', 'Invisibility']\n",
    "    potion_ingredients['Void Salts'] = ['Weakness to Shock', 'Resist Magic', 'Damage Health', 'Fortify Magicka']\n",
    "    potion_ingredients['Wheat'] = ['Damage Stamina Regen', 'Lingering Damage Magicka', 'Restore Health', 'Fortify Health']\n",
    "    potion_ingredients['White Cap'] = ['Fortify Heavy Armor', 'Weakness to Frost', 'Restore Magicka', 'Ravage Magicka']\n",
    "    potion_ingredients['Wisp Wrappings'] = ['Restore Stamina', 'Fortify Destruction', 'Fortify Carry Weight', 'Resist Magic']\n",
    "    return potion_ingredients"
   ]
  },
  {
   "cell_type": "code",
   "execution_count": 2,
   "id": "9ef92a56",
   "metadata": {},
   "outputs": [
    {
     "name": "stdout",
     "output_type": "stream",
     "text": [
      "['Bittergreen Petals', 'Blister Pod Cap', \"Bungler's Bane\", 'Comberry', 'Creep Cluster', 'Dreugh Wax', 'Dwarven Oil', 'Glowing Mushroom', 'Hawk Feathers', 'Hypha Facia', 'Mora Tapinella', 'Tap Root', 'Vampire Dust']\n"
     ]
    }
   ],
   "source": [
    "def get_partial_ingredients(potion_ingredients):\n",
    "    return [ingredient_name for ingredient_name in potion_ingredients.keys() if len(potion_ingredients[ingredient_name]) < 4]\n",
    "\n",
    "print(get_partial_ingredients(get_ingredients()))"
   ]
  },
  {
   "cell_type": "markdown",
   "id": "4a1645d3",
   "metadata": {},
   "source": [
    "## 3. Why?"
   ]
  },
  {
   "cell_type": "code",
   "execution_count": 4,
   "id": "8e00b618",
   "metadata": {},
   "outputs": [],
   "source": [
    "def get_effects(potion_ingredients):\n",
    "    potion_effects = set()\n",
    "    [potion_effects.update(ingredient_effects) for ingredient_effects in get_ingredients().values()]\n",
    "    return sorted(potion_effects)"
   ]
  },
  {
   "cell_type": "markdown",
   "id": "80ff4fe5",
   "metadata": {},
   "source": [
    "#### The currently discovered possible potion effects include:"
   ]
  },
  {
   "cell_type": "code",
   "execution_count": 5,
   "id": "79343d3c",
   "metadata": {},
   "outputs": [
    {
     "name": "stdout",
     "output_type": "stream",
     "text": [
      "['Cure Disease', 'Damage Health', 'Damage Magicka', 'Damage Magicka Regen', 'Damage Stamina', 'Damage Stamina Regen', 'Fear', 'Fortify Alteration', 'Fortify Barter', 'Fortify Block', 'Fortify Carry Weight', 'Fortify Conjuration', 'Fortify Destruction', 'Fortify Enchanting', 'Fortify Health', 'Fortify Heavy Armor', 'Fortify Illusion', 'Fortify Light Armor', 'Fortify Lockpicking', 'Fortify Magicka', 'Fortify Marksman', 'Fortify One-handed', 'Fortify Pickpocket', 'Fortify Restoration', 'Fortify Smithing', 'Fortify Sneak', 'Fortify Stamina', 'Fortify Two-handed', 'Frenzy', 'Invisibility', 'Lingering Damage Health', 'Lingering Damage Magicka', 'Lingering Damage Stamina', 'Paralysis', 'Ravage Health', 'Ravage Magicka', 'Ravage Stamina', 'Regenerate Health', 'Regenerate Magicka', 'Regenerate Stamina', 'Resist Fire', 'Resist Frost', 'Resist Magic', 'Resist Poison', 'Resist Shock', 'Restore Health', 'Restore Magicka', 'Restore Stamina', 'Slow', 'Spell Absorption', 'Waterbreathing', 'Weakness to Fire', 'Weakness to Frost', 'Weakness to Magic', 'Weakness to Poison', 'Weakness to Shock']\n"
     ]
    }
   ],
   "source": [
    "print(get_effects(get_ingredients()))"
   ]
  },
  {
   "cell_type": "markdown",
   "id": "005f6d73",
   "metadata": {},
   "source": [
    "#### Exact price of individual effects can vary significantly depending on skill, but the relative price of each potion effect can be observed quite easily and is copied below in descending order. Note that sometimes an ingredient, and not the produced potion effect, will modify the relative cost of the potion. Further exceptions may exist, but the below order holds true most of the time and serves as a general guideline on which potions create the most gold and fastest alchemy skillups."
   ]
  },
  {
   "cell_type": "code",
   "execution_count": 7,
   "id": "649841a4",
   "metadata": {},
   "outputs": [],
   "source": [
    "relative_prices = ['Invisibility', 'Paralysis', 'Damage Magicka Regen', 'Slow', 'Fortify Carry Weight', 'Regenerate Stamina', 'Regenerate Health', 'Regenerate Magicka', 'Damage Stamina Regen', 'Fear', 'Fortify Block', 'Fortify Marksman', 'Fortify Restoration', 'Resist Poison', 'Fortify Two-handed', 'Frenzy', 'Lingering Damage Health', 'Resist Frost', 'Resist Fire', 'Resist Shock', 'Fortify Health', 'Lingering Damage Magicka', 'Fortify Conjuration', 'Fortify Magicka', 'Fortify Stamina', 'Resist Magic', 'Fortify Heavy Armor', 'Damage Magicka', 'Fortify Barter', 'Weakness to Magic', 'Weakness to Poison', 'Damage Stamina', 'Weakness to Frost', 'Restore Magicka', 'Restore Stamina', 'Restore Health', 'Fortify Lockpicking', 'Ravage Stamina', 'Fortify Enchanting', 'Ravage Magicka', 'Damage Health']"
   ]
  },
  {
   "cell_type": "markdown",
   "id": "b91432f3",
   "metadata": {},
   "source": [
    "# 4. How?"
   ]
  },
  {
   "cell_type": "code",
   "execution_count": 8,
   "id": "ac790a34",
   "metadata": {},
   "outputs": [
    {
     "name": "stdout",
     "output_type": "stream",
     "text": [
      "('Damage Magicka Regen', ['Bear Claws', 'Blue Butterfly Wing', 'Blue Mountain Flower', \"Chicken's Egg\", 'Glow Dust', 'Hanging Moss', 'Nightshade', 'Spider Egg', 'Spriggan Sap'])\n"
     ]
    }
   ],
   "source": [
    "def get_ingredients_with_effect(potion_ingredients, effect):\n",
    "    ingredients_with_effect = []\n",
    "    for ingredient in potion_ingredients:\n",
    "        if effect in potion_ingredients[ingredient]:\n",
    "            ingredients_with_effect.append(ingredient)\n",
    "    return effect, ingredients_with_effect\n",
    "    \n",
    "#test get_ingredients_with_effect\n",
    "print(get_ingredients_with_effect(get_ingredients(), 'Damage Magicka Regen'))\n",
    "#should return ('Damage Magicka Regen', ['Blue Butterfly Wing', 'Blue Mountain Flower', \"Chicken's Egg\", 'Glow Dust', 'Nightshade', 'Spider Egg', 'Spriggan Sap'])"
   ]
  },
  {
   "cell_type": "code",
   "execution_count": 9,
   "id": "7c70f140",
   "metadata": {
    "scrolled": true
   },
   "outputs": [
    {
     "name": "stdout",
     "output_type": "stream",
     "text": [
      "Potions sorted by price: \n",
      "('Invisibility', ['Bittergreen Petals', 'Chaurus Eggs', 'Ice Wraith Teeth', 'Luna Moth Wing', 'Nirnroot', 'Vampire Dust'])\n",
      "('Paralysis', ['Briar Heart', 'Canis Root', 'Corkbulb Root', 'Imp Stool', 'Swamp Fungal Pod'])\n",
      "('Damage Magicka Regen', ['Bear Claws', 'Blue Butterfly Wing', 'Blue Mountain Flower', \"Chicken's Egg\", 'Glow Dust', 'Hanging Moss', 'Nightshade', 'Spider Egg', 'Spriggan Sap'])\n",
      "('Slow', [\"Bungler's Bane\", 'Deathbell', 'River Betty', 'Salt Pile'])\n",
      "('Fortify Carry Weight', ['Coda Flower', \"Giant's Toe\", 'Hawk Beak', 'River Betty', 'Scaly Pholiota', 'Steel-Blue Entoloma', 'Wisp Wrappings'])\n",
      "('Regenerate Stamina', ['Bee', 'Fly Amanita', 'Mora Tapinella', 'Scaly Pholiota'])\n",
      "('Regenerate Health', ['Garlic', 'Juniper Berries', 'Luna Moth Wing', \"Namira's Rot\", 'Nordic Barnacle', 'Vampire Dust'])\n",
      "('Regenerate Magicka', ['Fire Salts', 'Garlic', 'Jazbay Grapes', 'Moon Sugar', 'Salt Pile', 'Tap Root'])\n",
      "('Damage Stamina Regen', ['Creep Cluster', 'Daedra Heart', 'Frost Mirriam', \"Giant's Toe\", 'Histcarp', 'Juniper Berries', 'Silverside Perch', 'Skeever Tail', 'Wheat'])\n",
      "('Fear', ['Blue Dartwing', 'Cyrodilic Spadetail', 'Daedra Heart', \"Namira's Rot\"])\n",
      "('Fortify Block', ['Bleeding Crown', 'Briar Heart', 'Honeycomb', 'Pearl', 'Slaughterfish Scales', 'Tundra Cotton'])\n",
      "('Fortify Marksman', ['Canis Root', 'Corkbulb Root', 'Elves Ear', 'Juniper Berries', 'Spider Egg'])\n",
      "('Fortify Restoration', ['Abecean Longfin', 'Cyrodilic Spadetail', 'Salt Pile', 'Small Antlers', 'Small Pearl'])\n",
      "('Resist Poison', ['Beehive Husk', 'Charred Skeever Hide', 'Falmer Ear', 'Garlic', 'Grass Pod', 'Mudcrab Chitin', 'Slaughterfish Egg', 'Thistle Branch', 'Troll Fat'])\n",
      "('Fortify Two-handed', [\"Dragon's Tongue\", 'Fly Amanita', 'Troll Fat'])\n",
      "('Frenzy', ['Blisterwort', 'Dreugh Wax', 'Falmer Ear', 'Fly Amanita', 'Hagraven Feathers', 'Hypha Facia', 'Troll Fat'])\n",
      "('Lingering Damage Health', ['Imp Stool', 'Mora Tapinella', 'Orange Dartwing', 'Slaughterfish Egg', 'Slaughterfish Scales'])\n",
      "('Resist Frost', ['Frost Mirriam', 'Frost Salts', 'Hawk Beak', 'Moon Sugar', 'Purple Mountain Flower', 'Silverside Perch', 'Slaughterfish Scales', 'Small Pearl', 'Snowberries', 'Steel-Blue Entoloma', 'Thistle Branch'])\n",
      "('Resist Fire', ['Bone Meal', \"Dragon's Tongue\", 'Elves Ear', 'Fire Salts', 'Fly Amanita', 'Mudcrab Chitin', 'Snowberries'])\n",
      "('Resist Shock', ['Blue Dartwing', 'Corkbulb Root', 'Glow Dust', 'Glowing Mushroom', 'Hawk Beak', 'Pearl', 'Pine Thrush Egg', 'Snowberries', 'Swamp Fungal Pod'])\n",
      "('Fortify Health', ['Bear Claws', 'Blue Mountain Flower', \"Giant's Toe\", 'Glowing Mushroom', 'Hanging Moss', 'Wheat'])\n",
      "('Lingering Damage Magicka', ['Hagraven Claw', 'Purple Mountain Flower', 'Swamp Fungal Pod', 'Torchbug Thorax', 'Wheat'])\n",
      "('Fortify Conjuration', ['Blue Butterfly Wing', 'Blue Mountain Flower', 'Bone Meal', 'Congealed Putrescence', 'Frost Salts', 'Hagraven Feathers', 'Lavender'])\n",
      "('Fortify Magicka', ['Briar Heart', 'Ectoplasm', 'Histcarp', 'Jazbay Grapes', 'Red Mountain Flower', 'Tundra Cotton', 'Void Salts'])\n",
      "('Fortify Stamina', ['Chaurus Eggs', 'Garlic', 'Lavender', 'Slaughterfish Egg', 'Torchbug Thorax'])\n",
      "('Resist Magic', ['Bleeding Crown', \"Chicken's Egg\", 'Hagraven Claw', 'Lavender', 'Nirnroot', 'Tundra Cotton', 'Void Salts', 'Wisp Wrappings'])\n",
      "('Fortify Heavy Armor', ['Ice Wraith Teeth', 'Sabre Cat Tooth', 'Slaughterfish Scales', 'Thistle Branch', 'White Cap'])\n",
      "('Damage Magicka', ['Butterfly Wing', 'Chaurus Eggs', 'Daedra Heart', 'Eye of Sabre Cat', 'Glow Dust', 'Hagraven Feathers', 'Hanging Moss', 'Luna Moth Wing', \"Namira's Rot\", 'Nordic Barnacle'])\n",
      "('Fortify Barter', ['Butterfly Wing', \"Dragon's Tongue\", 'Hagraven Claw', 'Tundra Cotton'])\n",
      "('Weakness to Magic', ['Dreugh Wax', 'Dwarven Oil', 'Jazbay Grapes', 'Rock Warbler Egg', 'Salt Pile', 'Scaly Pholiota', 'Tap Root', 'Torchbug Thorax'])\n",
      "('Weakness to Poison', ['Abecean Longfin', 'Bleeding Crown', 'Chaurus Eggs', 'Deathbell', 'Giant Lichen', 'Hypha Facia', 'Pine Thrush Egg', 'Sabre Cat Tooth', 'Small Antlers'])\n",
      "('Damage Stamina', ['Blisterwort', 'Blue Butterfly Wing', 'Bone Meal', 'Canis Root', 'Comberry', 'Cyrodilic Spadetail', \"Giant's Toe\", 'Nirnroot', 'Rock Warbler Egg', 'Spider Egg'])\n",
      "('Weakness to Frost', ['Abecean Longfin', 'Elves Ear', 'Fire Salts', 'Ice Wraith Teeth', 'White Cap'])\n",
      "('Restore Magicka', ['Briar Heart', 'Congealed Putrescence', 'Creep Cluster', 'Dwarven Oil', 'Ectoplasm', 'Elves Ear', 'Fire Salts', 'Frost Salts', 'Giant Lichen', 'Grass Pod', 'Moon Sugar', 'Mora Tapinella', 'Pearl', 'Red Mountain Flower', 'Steel-Blue Entoloma', 'Tap Root', 'White Cap'])\n",
      "('Restore Stamina', ['Bear Claws', 'Bee', 'Charred Skeever Hide', 'Eye of Sabre Cat', 'Hawk Beak', 'Histcarp', 'Honeycomb', 'Mudcrab Chitin', 'Orange Dartwing', 'Pearl', 'Pine Thrush Egg', 'Purple Mountain Flower', 'Sabre Cat Tooth', 'Silverside Perch', 'Small Pearl', 'Torchbug Thorax', 'Wisp Wrappings'])\n",
      "('Restore Health', ['Blisterwort', 'Blue Dartwing', 'Blue Mountain Flower', 'Butterfly Wing', 'Charred Skeever Hide', 'Corkbulb Root', 'Daedra Heart', 'Eye of Sabre Cat', 'Imp Stool', 'Rock Warbler Egg', 'Swamp Fungal Pod', 'Wheat'])\n",
      "('Fortify Lockpicking', ['Falmer Ear', \"Namira's Rot\", 'Pine Thrush Egg', 'Spider Egg'])\n",
      "('Ravage Stamina', ['Bee', 'Bone Meal', \"Bungler's Bane\", 'Deathbell', 'Honeycomb', 'Thistle Branch'])\n",
      "('Fortify Enchanting', ['Blue Butterfly Wing', 'Hagraven Claw', 'Snowberries', 'Spriggan Sap'])\n",
      "('Ravage Magicka', ['Coda Flower', 'Frost Mirriam', 'Grass Pod', 'Lavender', 'Orange Dartwing', 'Red Mountain Flower', 'White Cap'])\n",
      "('Damage Health', ['Coda Flower', 'Deathbell', 'Ectoplasm', 'Falmer Ear', 'Imp Stool', 'Nightshade', 'Nirnroot', 'Red Mountain Flower', 'River Betty', 'Skeever Tail', 'Small Antlers', 'Troll Fat', 'Void Salts'])\n",
      "\n",
      "Potions not yet sorted: \n",
      "('Cure Disease', ['Charred Skeever Hide', 'Hawk Feathers', 'Mudcrab Chitin'])\n",
      "('Fortify Alteration', ['Grass Pod', 'River Betty', 'Spriggan Sap'])\n",
      "('Fortify Destruction', ['Beehive Husk', 'Ectoplasm', 'Glow Dust', 'Nightshade', 'Steel-Blue Entoloma', 'Wisp Wrappings'])\n",
      "('Fortify Illusion', [\"Dragon's Tongue\", 'Dwarven Oil', 'Scaly Pholiota'])\n",
      "('Fortify Light Armor', ['Beehive Husk', 'Hawk Feathers', 'Honeycomb', 'Luna Moth Wing', 'Skeever Tail'])\n",
      "('Fortify One-handed', ['Bear Claws', 'Canis Root', 'Hanging Moss', 'Rock Warbler Egg', 'Small Pearl'])\n",
      "('Fortify Pickpocket', ['Blue Dartwing', 'Nordic Barnacle', 'Orange Dartwing', 'Slaughterfish Egg'])\n",
      "('Fortify Smithing', ['Blisterwort', 'Dreugh Wax', 'Sabre Cat Tooth', 'Spriggan Sap'])\n",
      "('Fortify Sneak', ['Abecean Longfin', 'Beehive Husk', 'Frost Mirriam', 'Purple Mountain Flower'])\n",
      "('Lingering Damage Stamina', ['Bittergreen Petals', 'Butterfly Wing', \"Chicken's Egg\", 'Coda Flower', 'Nightshade', 'Small Antlers'])\n",
      "('Ravage Health', ['Congealed Putrescence', 'Cyrodilic Spadetail', 'Eye of Sabre Cat', 'Giant Lichen', 'Jazbay Grapes', 'Silverside Perch', 'Skeever Tail'])\n",
      "('Spell Absorption', ['Comberry'])\n",
      "('Waterbreathing', [\"Chicken's Egg\", 'Histcarp', 'Nordic Barnacle'])\n",
      "('Weakness to Fire', ['Bleeding Crown', 'Congealed Putrescence', 'Frost Salts', 'Ice Wraith Teeth', 'Juniper Berries', 'Moon Sugar'])\n",
      "('Weakness to Shock', ['Bee', 'Giant Lichen', 'Hagraven Feathers', 'Void Salts'])\n"
     ]
    }
   ],
   "source": [
    "def get_all_possible_potions_sorted_by_price(potion_ingredients):\n",
    "    potion_effects = get_effects(potion_ingredients)\n",
    "    print('Potions sorted by price: ')\n",
    "    for effect in relative_prices:\n",
    "        print(get_ingredients_with_effect(potion_ingredients, effect))\n",
    "        potion_effects.remove(effect)\n",
    "    print('\\nPotions not yet sorted: ')\n",
    "    for effect in potion_effects:\n",
    "        print(get_ingredients_with_effect(potion_ingredients, effect))\n",
    "\n",
    "get_all_possible_potions_sorted_by_price(get_ingredients())"
   ]
  },
  {
   "cell_type": "markdown",
   "id": "8683ee4d",
   "metadata": {},
   "source": [
    "#### Replace \"pass\" with the name of the desired potion effect."
   ]
  },
  {
   "cell_type": "code",
   "execution_count": 10,
   "id": "8ad77f82",
   "metadata": {},
   "outputs": [
    {
     "ename": "SyntaxError",
     "evalue": "invalid syntax (Temp/ipykernel_11200/1466563607.py, line 1)",
     "output_type": "error",
     "traceback": [
      "\u001b[1;36m  File \u001b[1;32m\"C:\\Users\\chrim\\AppData\\Local\\Temp/ipykernel_11200/1466563607.py\"\u001b[1;36m, line \u001b[1;32m1\u001b[0m\n\u001b[1;33m    desired_effect = pass\u001b[0m\n\u001b[1;37m                     ^\u001b[0m\n\u001b[1;31mSyntaxError\u001b[0m\u001b[1;31m:\u001b[0m invalid syntax\n"
     ]
    }
   ],
   "source": [
    "desired_effect = pass\n",
    "\n",
    "#implement"
   ]
  },
  {
   "cell_type": "code",
   "execution_count": null,
   "id": "4c2d6a28",
   "metadata": {},
   "outputs": [],
   "source": []
  }
 ],
 "metadata": {
  "kernelspec": {
   "display_name": "Python 3 (ipykernel)",
   "language": "python",
   "name": "python3"
  },
  "language_info": {
   "codemirror_mode": {
    "name": "ipython",
    "version": 3
   },
   "file_extension": ".py",
   "mimetype": "text/x-python",
   "name": "python",
   "nbconvert_exporter": "python",
   "pygments_lexer": "ipython3",
   "version": "3.9.5"
  }
 },
 "nbformat": 4,
 "nbformat_minor": 5
}
