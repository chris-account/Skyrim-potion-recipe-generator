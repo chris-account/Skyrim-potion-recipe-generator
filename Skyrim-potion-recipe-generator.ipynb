{
 "cells": [
  {
   "cell_type": "markdown",
   "id": "010fb18c",
   "metadata": {},
   "source": [
    "# <div align=\"center\">Skyrim Potion Recipe Generator</div>"
   ]
  },
  {
   "cell_type": "markdown",
   "id": "de5a6ef0",
   "metadata": {},
   "source": [
    "## 1. Where?"
   ]
  },
  {
   "cell_type": "markdown",
   "id": "a47ce10e",
   "metadata": {},
   "source": [
    "#### Riverwood surroundings: Blue Mountain Flower, Red Mountain Flower, Purple Mountain Flower, Butterfly Wing, Blue Butterfly Wing, Fly Amanita, Mora Tapinella, Thistle Branch\n"
   ]
  },
  {
   "cell_type": "markdown",
   "id": "70383320",
   "metadata": {},
   "source": [
    "#### Whiterun surroundings: Blue Mountain Flower, Red Mountain Flower, Purple Mountain Flower, Butterfly Wing, Blue Butterfly Wing, Tundra Cotton, Lavender"
   ]
  },
  {
   "cell_type": "markdown",
   "id": "0aa86ad2",
   "metadata": {},
   "source": [
    "## 2. What?"
   ]
  },
  {
   "cell_type": "code",
   "execution_count": 81,
   "id": "9545cdc7",
   "metadata": {},
   "outputs": [],
   "source": [
    "potion_ingredients = []\n",
    "potion_ingredients.append([0, 'Abecean Longfin', 'Weakness to Poison', 'Weakness to Frost'])\n",
    "potion_ingredients.append([0, 'Bear Claws', 'Restore Stamina', 'Fortify Health'])\n",
    "potion_ingredients.append([0, 'Bee', 'Ravage Stamina', 'Restore Stamina'])\n",
    "potion_ingredients.append([0, 'Beehive Husk', 'Fortify Light Armor'])\n",
    "potion_ingredients.append([0, 'Bleeding Crown', 'Weakness to Poison', 'Fortify Block', 'Weakness to Fire'])\n",
    "potion_ingredients.append([0, 'Blisterwort', 'Frenzy', 'Damage Stamina', 'Restore Health'])\n",
    "potion_ingredients.append([0, 'Blue Butterfly Wing', 'Fortify Enchanting', 'Damage Stamina', 'Fortify Conjuration', 'Damage Magicka Regen']) \n",
    "potion_ingredients.append([0, 'Blue Mountain Flower', 'Restore Health', 'Fortify Health', 'Damage Magicka Regen', 'Fortify Conjuration'])\n",
    "potion_ingredients.append([0, 'Briar Heart', 'Fortify Block'])\n",
    "potion_ingredients.append([0, 'Bone Meal', 'Damage Stamina', 'Fortify Conjuration', 'Ravage Stamina', 'Resist Fire'])\n",
    "potion_ingredients.append([0, 'Butterfly Wing', 'Restore Health', 'Fortify Barter'])\n",
    "potion_ingredients.append([0, 'Canis Root', 'Damage Stamina'])\n",
    "potion_ingredients.append([0, 'Charred Skeever Hide', 'Restore Stamina'])\n",
    "potion_ingredients.append([0, 'Chicken\\'s Egg', 'Resist Magic', 'Damage Magicka Regen'])\n",
    "potion_ingredients.append([0, 'Creep Cluster', 'Restore Magicka'])\n",
    "potion_ingredients.append([0, 'Cyrodilic Spadetail', 'Fear', 'Damage Stamina'])\n",
    "potion_ingredients.append([0, 'Deathbell', 'Ravage Health', 'Damage Stamina', 'Weakness to Poison', 'Slow'])\n",
    "potion_ingredients.append([0, 'Dragon\\'s Tongue', 'Fortify Barter', 'Resist Fire'])\n",
    "potion_ingredients.append([0, 'Ectoplasm', 'Damage Health', 'Restore Magicka'])\n",
    "potion_ingredients.append([0, 'Elves Ear', 'Resist Fire'])\n",
    "potion_ingredients.append([0, 'Eye of Sabre Cat', 'Restore Stamina'])\n",
    "potion_ingredients.append([0, 'Fire Salts', 'Weakness to Frost', 'Restore Magicka'])\n",
    "potion_ingredients.append([0, 'Fly Amanita', 'Fortify Two-Handed', 'Frenzy', 'Resist Fire', 'Regenerate Stamina'])\n",
    "potion_ingredients.append([0, 'Frost Mirriam', 'Damage Stamina Regen', 'Resist Frost', 'Ravage Magicka'])\n",
    "potion_ingredients.append([0, 'Garlic', 'Fortify Stamina', 'Regenerate Health', 'Resist Poison', 'Regenerate Magicka'])\n",
    "potion_ingredients.append([0, 'Giant Lichen', 'Weakness to Shock', 'Weakness to Poison'])\n",
    "potion_ingredients.append([0, 'Giant\\'s Toe', 'Fortify Health', 'Damage Stamina Regen', 'Damage Stamina'])\n",
    "potion_ingredients.append([0, 'Glow Dust', 'Damage Magicka', 'Damage Magicka Regen'])\n",
    "potion_ingredients.append([0, 'Glowing Mushroom', 'Fortify Health', 'Resist Shock'])\n",
    "potion_ingredients.append([0, 'Hagraven Claw', 'Fortify Enchanting', 'Resist Magic'])\n",
    "potion_ingredients.append([0, 'Hagraven Feathers', 'Damage Magicka', 'Fortify Conjuration'])\n",
    "potion_ingredients.append([0, 'Hanging Moss', 'Damage Magicka'])\n",
    "potion_ingredients.append([0, 'Hawk Beak', 'Restore Stamina'])\n",
    "potion_ingredients.append([0, 'Histcarp', 'Restore Stamina'])\n",
    "potion_ingredients.append([0, 'Honeycomb', 'Fortify Block', 'Restore Stamina', 'Fortify Light Armor'])\n",
    "potion_ingredients.append([0, 'Jazbay Grapes', 'Weakness to Magic', 'Regenerate Magicka'])\n",
    "potion_ingredients.append([0, 'Juniper Berries', 'Damage Stamina Regen', 'Regenerate Health'])\n",
    "potion_ingredients.append([0, 'Ice Wraith Teeth', 'Weakness to Frost'])\n",
    "potion_ingredients.append([0, 'Imp Stool', 'Restore Health', 'Damage Health'])\n",
    "potion_ingredients.append([0, 'Lavender', 'Fortify Stamina', 'Resist Magic', 'Fortify Conjuration', 'Ravage Magicka'])\n",
    "potion_ingredients.append([0, 'Luna Moth Wing', 'Invisibility', 'Regenerate Health', 'Fortify Light Armor', 'Damage Magicka'])\n",
    "potion_ingredients.append([0, 'Mora Tapinella', 'Lingering Damage Health', 'Restore Magicka', 'Regenerate Stamina'])\n",
    "potion_ingredients.append([0, 'Mudcrab Chitin', 'Cure Disease', 'Resist Poison', 'Resist Fire', 'Restore Stamina'])\n",
    "potion_ingredients.append([0, 'Namira\\'s Rot', 'Fear', 'Damage Magicka', 'Fortify Lockpicking'])\n",
    "potion_ingredients.append([0, 'Nightshade', 'Damage Health', 'Damage Magicka Regen'])\n",
    "potion_ingredients.append([0, 'Nirnroot', 'Damage Stamina', 'Invisibility', 'Resist Magic', 'Damage Health'])\n",
    "potion_ingredients.append([0, 'Nordic Barnacle', 'Damage Magicka'])\n",
    "potion_ingredients.append([0, 'Orange Dartwing', 'Restore Stamina'])\n",
    "potion_ingredients.append([0, 'Pine Thrush Egg', 'Resist Shock', 'Restore Stamina', 'Fortify Lockpicking'])\n",
    "potion_ingredients.append([0, 'Purple Mountain Flower', 'Fortify Sneak', 'Lingering Damage Magicka', 'Restore Stamina', 'Resist Frost'])\n",
    "potion_ingredients.append([0, 'Red Mountain Flower', 'Restore Magicka', 'Ravage Magicka', 'Damage Health', 'Fortify Magicka'])\n",
    "potion_ingredients.append([0, 'River Betty', 'Fortify Carry Weight', 'Damage Health'])\n",
    "potion_ingredients.append([0, 'Rock Warbler Egg', 'Weakness to Magic', 'Restore Health'])\n",
    "potion_ingredients.append([0, 'Sabre Cat Tooth', 'Restore Stamina', 'Weakness to Poison'])\n",
    "potion_ingredients.append([0, 'Salt Pile', 'Fortify Restoration', 'Regenerate Magicka', 'Slow', 'Weakness to Magic'])\n",
    "potion_ingredients.append([0, 'Scaly Pholiota', 'Fortify Carry Weight', 'Weakness to Magic'])\n",
    "potion_ingredients.append([0, 'Silverside Perch', 'Resist Frost', 'Restore Stamina'])\n",
    "potion_ingredients.append([0, 'Skeever Tail', 'Damage Stamina Regen', 'Damage Health'])\n",
    "potion_ingredients.append([0, 'Slaughterfish Egg', 'Lingering Damage Health', 'Resist Poison', 'Fortify Stamina'])\n",
    "potion_ingredients.append([0, 'Slaughterfish Scales', 'Resist Frost', 'Lingering Damage Health', 'Fortify Heavy Armor'])\n",
    "potion_ingredients.append([0, 'Small Antlers', 'Fortify Restoration'])\n",
    "potion_ingredients.append([0, 'Snowberries', 'Fortify Enchanting', 'Resist Frost', 'Resist Fire', 'Resist Shock'])\n",
    "potion_ingredients.append([0, 'Spider Egg', 'Damage Stamina', 'Damage Magicka Regen', 'Fortify Lockpicking'])\n",
    "potion_ingredients.append([0, 'Spriggan Sap', 'Damage Magicka Regen'])\n",
    "potion_ingredients.append([0, 'Swamp Fungal Pod', 'Resist Shock'])\n",
    "potion_ingredients.append([0, 'Tap Root', 'Regenerate Magicka', 'Weakness to Magic', 'Restore Magicka'])\n",
    "potion_ingredients.append([0, 'Thistle Branch', 'Ravage Stamina', 'Fortify Heavy Armor', 'Resist Frost', 'Resist Poison'])\n",
    "potion_ingredients.append([0, 'Torchbug Thorax', 'Restore Stamina'])\n",
    "potion_ingredients.append([0, 'Troll Fat', 'Damage Health', 'Resist Poison'])\n",
    "potion_ingredients.append([0, 'Tundra Cotton', 'Fortify Barter', 'Resist Magic', 'Fortify Magicka'])\n",
    "potion_ingredients.append([0, 'Vampire Dust', 'Regenerate Health', 'Invisibility'])\n",
    "potion_ingredients.append([0, 'Void Salts', 'Weakness to Shock'])\n",
    "potion_ingredients.append([0, 'Wheat', 'Damage Stamina Regen', 'Lingering Damage Magicka', 'Restore Health', 'Fortify Health'])\n",
    "potion_ingredients.append([0, 'White Cap', 'Fortify Heavy Armor', 'Weakness to Frost', 'Restore Magicka', 'Ravage Magicka'])"
   ]
  },
  {
   "cell_type": "markdown",
   "id": "4a1645d3",
   "metadata": {},
   "source": [
    "## 3. Why?"
   ]
  },
  {
   "cell_type": "code",
   "execution_count": 82,
   "id": "8e00b618",
   "metadata": {},
   "outputs": [],
   "source": [
    "def get_effects(ingredients_list):\n",
    "    potion_effects = set()\n",
    "    [potion_effects.update(ingredient[2:]) for ingredient in potion_ingredients]\n",
    "    return sorted(potion_effects)"
   ]
  },
  {
   "cell_type": "markdown",
   "id": "80ff4fe5",
   "metadata": {},
   "source": [
    "#### The currently discovered possible potion effects include:"
   ]
  },
  {
   "cell_type": "code",
   "execution_count": 83,
   "id": "79343d3c",
   "metadata": {},
   "outputs": [
    {
     "name": "stdout",
     "output_type": "stream",
     "text": [
      "['Cure Disease', 'Damage Health', 'Damage Magicka', 'Damage Magicka Regen', 'Damage Stamina', 'Damage Stamina Regen', 'Fear', 'Fortify Barter', 'Fortify Block', 'Fortify Carry Weight', 'Fortify Conjuration', 'Fortify Enchanting', 'Fortify Health', 'Fortify Heavy Armor', 'Fortify Light Armor', 'Fortify Lockpicking', 'Fortify Magicka', 'Fortify Restoration', 'Fortify Sneak', 'Fortify Stamina', 'Fortify Two-Handed', 'Frenzy', 'Invisibility', 'Lingering Damage Health', 'Lingering Damage Magicka', 'Ravage Health', 'Ravage Magicka', 'Ravage Stamina', 'Regenerate Health', 'Regenerate Magicka', 'Regenerate Stamina', 'Resist Fire', 'Resist Frost', 'Resist Magic', 'Resist Poison', 'Resist Shock', 'Restore Health', 'Restore Magicka', 'Restore Stamina', 'Slow', 'Weakness to Fire', 'Weakness to Frost', 'Weakness to Magic', 'Weakness to Poison', 'Weakness to Shock']\n"
     ]
    }
   ],
   "source": [
    "print(get_effects(potion_ingredients))"
   ]
  },
  {
   "cell_type": "markdown",
   "id": "005f6d73",
   "metadata": {},
   "source": [
    "#### Exact price of individual effects can vary significantly depending on skill, but the relative price of each potion effect can be observed quite easily and is copied below in descending order. Note that sometimes an ingredient, and not the produced potion effect, will modify the relative cost of the potion. Further exceptions may exist, but the below order holds true most of the time and serves as a general guideline on which potions create the most gold and fastest alchemy skillups."
   ]
  },
  {
   "cell_type": "code",
   "execution_count": 84,
   "id": "649841a4",
   "metadata": {},
   "outputs": [],
   "source": [
    "relative_costs = ['Damage Magicka Regen', 'Regenerate Health', 'Regenerate Magicka', 'Damage Stamina Regen', 'Resist Frost', 'Fortify Health', 'Fortify Conjuration', 'Fortify Magicka', 'Resist Magic', 'Restore Magicka', 'Ravage Magicka', 'Damage Health']"
   ]
  },
  {
   "cell_type": "markdown",
   "id": "b91432f3",
   "metadata": {},
   "source": [
    "# 4. How?"
   ]
  },
  {
   "cell_type": "code",
   "execution_count": 85,
   "id": "ac358acc",
   "metadata": {},
   "outputs": [
    {
     "name": "stdout",
     "output_type": "stream",
     "text": [
      "Potions sorted by gold values:\n",
      "\n",
      "Potions not yet sorted:\n"
     ]
    }
   ],
   "source": [
    "def get_ingredients_with_effect(ingredients_list):\n",
    "    ingredients_with_effect = dict()\n",
    "    for ingredient in ingredients_list:\n",
    "        quantity = ingredient[0]\n",
    "        if quantity > 0:\n",
    "            name = ingredient[1]\n",
    "            effects = ingredient[2:]\n",
    "            for effect in effects:\n",
    "                if effect in ingredients_with_effect:\n",
    "                     ingredients_with_effect[effect].append(str(name))\n",
    "                else:\n",
    "                    ingredients_with_effect[effect] = [name]\n",
    "    print('Potions sorted by gold values:')\n",
    "    for effect in relative_costs:\n",
    "        if effect in ingredients_with_effect.keys() and len(ingredients_with_effect[effect]) >= 2:\n",
    "            print(effect + \": \" + str(ingredients_with_effect[effect]))\n",
    "            \n",
    "    print('\\nPotions not yet sorted:')        \n",
    "    for effect in sorted(ingredients_with_effect.keys()):\n",
    "        if effect not in relative_costs and len(ingredients_with_effect[effect]) >= 2:\n",
    "            print(effect + \": \" + str(ingredients_with_effect[effect]))\n",
    "\n",
    "get_ingredients_with_effect(potion_ingredients)"
   ]
  },
  {
   "cell_type": "markdown",
   "id": "8683ee4d",
   "metadata": {},
   "source": [
    "#### Replace \"pass\" with the name of the desired potion effect."
   ]
  },
  {
   "cell_type": "code",
   "execution_count": 17,
   "id": "8ad77f82",
   "metadata": {},
   "outputs": [
    {
     "ename": "SyntaxError",
     "evalue": "invalid syntax (Temp/ipykernel_12756/1466563607.py, line 1)",
     "output_type": "error",
     "traceback": [
      "\u001b[1;36m  File \u001b[1;32m\"C:\\Users\\chrim\\AppData\\Local\\Temp/ipykernel_12756/1466563607.py\"\u001b[1;36m, line \u001b[1;32m1\u001b[0m\n\u001b[1;33m    desired_effect = pass\u001b[0m\n\u001b[1;37m                     ^\u001b[0m\n\u001b[1;31mSyntaxError\u001b[0m\u001b[1;31m:\u001b[0m invalid syntax\n"
     ]
    }
   ],
   "source": [
    "desired_effect = pass\n",
    "\n",
    "#implement"
   ]
  }
 ],
 "metadata": {
  "kernelspec": {
   "display_name": "Python 3 (ipykernel)",
   "language": "python",
   "name": "python3"
  },
  "language_info": {
   "codemirror_mode": {
    "name": "ipython",
    "version": 3
   },
   "file_extension": ".py",
   "mimetype": "text/x-python",
   "name": "python",
   "nbconvert_exporter": "python",
   "pygments_lexer": "ipython3",
   "version": "3.9.5"
  }
 },
 "nbformat": 4,
 "nbformat_minor": 5
}
