{
 "cells": [
  {
   "cell_type": "markdown",
   "id": "010fb18c",
   "metadata": {},
   "source": [
    "# <div align=\"center\">Skyrim Potion Recipe Generator</div>"
   ]
  },
  {
   "cell_type": "markdown",
   "id": "de5a6ef0",
   "metadata": {},
   "source": [
    "## 1. Where?"
   ]
  },
  {
   "cell_type": "markdown",
   "id": "a47ce10e",
   "metadata": {},
   "source": [
    "#### Riverwood surroundings: Blue Mountain Flower, Red Mountain Flower, Purple Mountain Flower, Butterfly Wing, Blue Butterfly Wing, Fly Amanita, Mora Tapinella, Thistle Branch\n"
   ]
  },
  {
   "cell_type": "markdown",
   "id": "70383320",
   "metadata": {},
   "source": [
    "#### Whiterun surroundings: Blue Mountain Flower, Red Mountain Flower, Purple Mountain Flower, Butterfly Wing, Blue Butterfly Wing, Tundra Cotton, Lavender"
   ]
  },
  {
   "cell_type": "markdown",
   "id": "0aa86ad2",
   "metadata": {},
   "source": [
    "## 2. What?"
   ]
  },
  {
   "cell_type": "code",
   "execution_count": 31,
   "id": "9545cdc7",
   "metadata": {},
   "outputs": [],
   "source": [
    "potion_ingredients = []\n",
    "potion_ingredients.append(['Abecean Longfin', 'Weakness to Frost'])\n",
    "potion_ingredients.append(['Bee', 'Restore Stamina'])\n",
    "potion_ingredients.append(['Bleeding Crown', 'Weakness to Fire'])\n",
    "potion_ingredients.append(['Blisterwort', 'Damage Stamina', 'Restore Health'])\n",
    "potion_ingredients.append(['Blue Butterfly Wing', 'Damage Stamina', 'Fortify Conjuration', 'Damage Magicka Regen']) \n",
    "potion_ingredients.append(['Blue Mountain Flower', 'Restore Health', 'Fortify Health', 'Damage Magicka Regen', 'Fortify Conjuration'])\n",
    "potion_ingredients.append(['Bone Meal', 'Damage Stamina', 'Fortify Conjuration', 'Ravage Stamina', 'Resist Fire'])\n",
    "potion_ingredients.append(['Butterfly Wing'])\n",
    "potion_ingredients.append(['Canis Root', 'Damage Stamina'])\n",
    "potion_ingredients.append(['Charred Skeever Hide', 'Restore Stamina'])\n",
    "potion_ingredients.append(['Chicken\\'s Egg', 'Resist Magic', 'Damage Magicka Regen'])\n",
    "potion_ingredients.append(['Creep Cluster', 'Restore Magicka'])\n",
    "potion_ingredients.append(['Cyrodilic Spadetail', 'Damage Stamina'])\n",
    "potion_ingredients.append(['Deathbell', 'Ravage Health', 'Damage Stamina', 'Weakness to Poison', 'Slow'])\n",
    "potion_ingredients.append(['Dragon\\'s Tongue', 'Resist Fire'])\n",
    "potion_ingredients.append(['Ectoplasm', 'Damage Health', 'Restore Magicka'])\n",
    "potion_ingredients.append(['Eye of Sabre Cat', 'Restore Stamina'])\n",
    "potion_ingredients.append(['Fire Salts', 'Weakness to Frost', 'Restore Magicka'])\n",
    "potion_ingredients.append(['Fly Amanita', 'Resist Fire', 'Regenerate Stamina'])\n",
    "potion_ingredients.append(['Garlic', 'Resist Poison'])\n",
    "potion_ingredients.append(['Giant Lichen', 'Weakness to Shock', 'Weakness to Poison'])\n",
    "potion_ingredients.append(['Giant\\'s Toe', 'Damage Stamina'])\n",
    "potion_ingredients.append(['Glow Dust', 'Damage Magicka', 'Damage Magicka Regen'])\n",
    "potion_ingredients.append(['Glowing Mushroom', 'Fortify Health', 'Resist Shock'])\n",
    "potion_ingredients.append(['Hagraven Claw', 'Resist Magic'])\n",
    "potion_ingredients.append(['Hagraven Feathers', 'Damage Magicka', 'Fortify Conjuration'])\n",
    "potion_ingredients.append(['Hanging Moss', 'Damage Magicka'])\n",
    "potion_ingredients.append(['Histcarp', 'Restore Stamina'])\n",
    "potion_ingredients.append(['Jazbay Grapes', 'Weakness to Magic'])\n",
    "potion_ingredients.append(['Ice Wraith Teeth', 'Weakness to Frost'])\n",
    "potion_ingredients.append(['Imp Stool', 'Restore Health', 'Damage Health'])\n",
    "potion_ingredients.append(['Lavender', 'Fortify Stamina', 'Resist Magic', 'Fortify Conjuration', 'Ravage Magicka'])\n",
    "potion_ingredients.append(['Luna Moth Wing', 'Damage Magicka'])\n",
    "potion_ingredients.append(['Mora Tapinella', 'Restore Magicka', 'Regenerate Stamina'])\n",
    "potion_ingredients.append(['Mudcrab Chitin', 'Resist Poison', 'Resist Fire', 'Restore Stamina'])\n",
    "potion_ingredients.append(['Namira\\'s Rot', 'Damage Magicka', 'Fortify Lockpicking'])\n",
    "potion_ingredients.append(['Nightshade', 'Damage Health', 'Damage Magicka Regen'])\n",
    "potion_ingredients.append(['Nirnroot', 'Resist Magic', 'Damage Health'])\n",
    "potion_ingredients.append(['Nordic Barnacle', 'Damage Magicka'])\n",
    "potion_ingredients.append(['Orange Dartwing', 'Restore Stamina'])\n",
    "potion_ingredients.append(['Pine Thrush Egg', 'Restore Stamina', 'Fortify Lockpicking'])\n",
    "potion_ingredients.append(['Purple Mountain Flower', 'Lingering Damage Magicka', 'Restore Stamina', 'Resist Frost'])\n",
    "potion_ingredients.append(['Red Mountain Flower', 'Restore Magicka', 'Ravage Magicka', 'Damage Health', 'Fortify Magicka'])\n",
    "potion_ingredients.append(['River Betty', 'Fortify Carry Weight', 'Damage Health'])\n",
    "potion_ingredients.append(['Rock Warbler Egg', 'Restore Health'])\n",
    "potion_ingredients.append(['Sabre Cat Tooth', 'Restore Stamina', 'Weakness to Poison'])\n",
    "potion_ingredients.append(['Salt Pile', 'Slow', 'Weakness to Magic'])\n",
    "potion_ingredients.append(['Scaly Pholiota', 'Fortify Carry Weight', 'Weakness to Magic'])\n",
    "potion_ingredients.append(['Silverside Perch', 'Resist Frost', 'Restore Stamina'])\n",
    "potion_ingredients.append(['Skeever Tail', 'Damage Stamina Regen', 'Damage Health'])\n",
    "potion_ingredients.append(['Slaughterfish Egg', 'Lingering Damage Health', 'Resist Poison', 'Fortify Stamina'])\n",
    "potion_ingredients.append(['Slaughterfish Scales', 'Resist Frost', 'Lingering Damage Health', 'Fortify Heavy Armor'])\n",
    "potion_ingredients.append(['Snowberries', 'Resist Frost', 'Resist Fire', 'Resist Shock'])\n",
    "potion_ingredients.append(['Spider Egg', 'Damage Stamina', 'Damage Magicka Regen'])\n",
    "potion_ingredients.append(['Spriggan Sap', 'Damage Magicka Regen'])\n",
    "potion_ingredients.append(['Swamp Fungal Pod', 'Resist Shock'])\n",
    "potion_ingredients.append(['Tap Root', 'Weakness to Magic', 'Restore Magicka'])\n",
    "potion_ingredients.append(['Thistle Branch', 'Fortify Heavy Armor', 'Resist Frost', 'Resist Poison'])\n",
    "potion_ingredients.append(['Torchbug Thorax', 'Restore Stamina'])\n",
    "potion_ingredients.append(['Troll Fat', 'Damage Health', 'Resist Poison'])\n",
    "potion_ingredients.append(['Tundra Cotton', 'Resist Magic', 'Fortify Magicka'])\n",
    "potion_ingredients.append(['Vampire Dust', 'Invisibility'])\n",
    "potion_ingredients.append(['Void Salts', 'Weakness to Shock'])\n",
    "potion_ingredients.append(['Wheat', 'Damage Stamina Regen', 'Lingering Damage Magicka', 'Restore Health', 'Fortify Health'])\n",
    "potion_ingredients.append(['White Cap', 'Fortify Heavy Armor', 'Weakness to Frost', 'Restore Magicka', 'Ravage Magicka'])"
   ]
  },
  {
   "cell_type": "markdown",
   "id": "4a1645d3",
   "metadata": {},
   "source": [
    "## 3. Why?"
   ]
  },
  {
   "cell_type": "code",
   "execution_count": 32,
   "id": "8e00b618",
   "metadata": {},
   "outputs": [
    {
     "ename": "TypeError",
     "evalue": "unhashable type: 'list'",
     "output_type": "error",
     "traceback": [
      "\u001b[1;31m---------------------------------------------------------------------------\u001b[0m",
      "\u001b[1;31mTypeError\u001b[0m                                 Traceback (most recent call last)",
      "\u001b[1;32m~\\AppData\\Local\\Temp/ipykernel_11136/4279752779.py\u001b[0m in \u001b[0;36m<module>\u001b[1;34m\u001b[0m\n\u001b[1;32m----> 1\u001b[1;33m \u001b[0mpotion_effects\u001b[0m \u001b[1;33m=\u001b[0m \u001b[0mset\u001b[0m\u001b[1;33m(\u001b[0m\u001b[1;33m[\u001b[0m\u001b[0mingredient\u001b[0m\u001b[1;33m[\u001b[0m\u001b[1;36m1\u001b[0m\u001b[1;33m:\u001b[0m\u001b[1;33m]\u001b[0m \u001b[1;32mfor\u001b[0m \u001b[0mingredient\u001b[0m \u001b[1;32min\u001b[0m \u001b[0mpotion_ingredients\u001b[0m\u001b[1;33m]\u001b[0m\u001b[1;33m)\u001b[0m\u001b[1;33m\u001b[0m\u001b[1;33m\u001b[0m\u001b[0m\n\u001b[0m",
      "\u001b[1;31mTypeError\u001b[0m: unhashable type: 'list'"
     ]
    }
   ],
   "source": [
    "potion_effects = set([ingredient[1:] for ingredient in potion_ingredients])"
   ]
  },
  {
   "cell_type": "markdown",
   "id": "80ff4fe5",
   "metadata": {},
   "source": [
    "#### The currently discovered possible potion effects include:"
   ]
  },
  {
   "cell_type": "code",
   "execution_count": 26,
   "id": "79343d3c",
   "metadata": {},
   "outputs": [
    {
     "name": "stdout",
     "output_type": "stream",
     "text": [
      "['Damage Health', 'Damage Magicka Regen', 'Damage Stamina', 'Fortify Conjuration', 'Fortify Health', 'Fortify Magicka', 'Ravage Magicka', 'Regenerate Stamina', 'Resist Fire', 'Resist Frost', 'Resist Magic', 'Resist Poison', 'Resist Shock', 'Restore Health', 'Restore Magicka', 'Restore Stamina', 'Weakness to Magic']\n"
     ]
    }
   ],
   "source": [
    "print(sorted(potion_effects))"
   ]
  },
  {
   "cell_type": "markdown",
   "id": "005f6d73",
   "metadata": {},
   "source": [
    "#### Exact price of individual effects can vary significantly depending on skill, but the relative price of each potion effect can be observed quite easily and is copied below in descending order. Note that sometimes an ingredient, and not the produced potion effect, will modify the relative cost of the potion. Further exceptions may exist, but the below order holds true most of the time and serves as a general guideline on which potions create the most gold and fastest alchemy skillups."
   ]
  },
  {
   "cell_type": "markdown",
   "id": "9fcb5e6e",
   "metadata": {},
   "source": [
    "'Damage Magicka Regen', 'Resist Frost', 'Fortify Health', 'Fortify Conjuration', 'Fortify Magicka', 'Resist Magic', 'Restore Magicka', 'Ravage Magicka', 'Damage Health'"
   ]
  },
  {
   "cell_type": "markdown",
   "id": "b91432f3",
   "metadata": {},
   "source": [
    "# 4. How?"
   ]
  },
  {
   "cell_type": "markdown",
   "id": "8683ee4d",
   "metadata": {},
   "source": [
    "#### Replace \"pass\" with the name of the desired potion effect."
   ]
  },
  {
   "cell_type": "code",
   "execution_count": 17,
   "id": "8ad77f82",
   "metadata": {},
   "outputs": [
    {
     "ename": "SyntaxError",
     "evalue": "invalid syntax (Temp/ipykernel_12756/1466563607.py, line 1)",
     "output_type": "error",
     "traceback": [
      "\u001b[1;36m  File \u001b[1;32m\"C:\\Users\\chrim\\AppData\\Local\\Temp/ipykernel_12756/1466563607.py\"\u001b[1;36m, line \u001b[1;32m1\u001b[0m\n\u001b[1;33m    desired_effect = pass\u001b[0m\n\u001b[1;37m                     ^\u001b[0m\n\u001b[1;31mSyntaxError\u001b[0m\u001b[1;31m:\u001b[0m invalid syntax\n"
     ]
    }
   ],
   "source": [
    "desired_effect = pass\n",
    "\n",
    "#implement"
   ]
  }
 ],
 "metadata": {
  "kernelspec": {
   "display_name": "Python 3 (ipykernel)",
   "language": "python",
   "name": "python3"
  },
  "language_info": {
   "codemirror_mode": {
    "name": "ipython",
    "version": 3
   },
   "file_extension": ".py",
   "mimetype": "text/x-python",
   "name": "python",
   "nbconvert_exporter": "python",
   "pygments_lexer": "ipython3",
   "version": "3.9.5"
  }
 },
 "nbformat": 4,
 "nbformat_minor": 5
}
